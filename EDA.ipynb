{
 "cells": [
  {
   "cell_type": "code",
   "execution_count": 138,
   "metadata": {},
   "outputs": [],
   "source": [
    "import pandas as pd\n",
    "import json"
   ]
  },
  {
   "cell_type": "code",
   "execution_count": 134,
   "metadata": {},
   "outputs": [],
   "source": [
    "data_path = 'data_dir/train-test-split-v2.json'"
   ]
  },
  {
   "cell_type": "code",
   "execution_count": 2,
   "metadata": {},
   "outputs": [],
   "source": [
    "data = pd.read_json(data_path,lines=True)"
   ]
  },
  {
   "cell_type": "code",
   "execution_count": 147,
   "metadata": {},
   "outputs": [
    {
     "data": {
      "text/plain": [
       "steam_id                                       76561198046794976\n",
       "games          [{'appid': 205790, 'name': 'Dota 2 Test', 'pla...\n",
       "valid_games    [{'appid': 550, 'name': 'Left 4 Dead 2', 'play...\n",
       "train_games    [{'appid': 205790, 'name': 'Dota 2 Test', 'pla...\n",
       "user_id                                                        0\n",
       "Name: 0, dtype: object"
      ]
     },
     "execution_count": 147,
     "metadata": {},
     "output_type": "execute_result"
    }
   ],
   "source": [
    "data.iloc[0]"
   ]
  },
  {
   "cell_type": "markdown",
   "metadata": {},
   "source": [
    "# Number of users"
   ]
  },
  {
   "cell_type": "code",
   "execution_count": 7,
   "metadata": {},
   "outputs": [
    {
     "data": {
      "text/plain": [
       "7521"
      ]
     },
     "execution_count": 7,
     "metadata": {},
     "output_type": "execute_result"
    }
   ],
   "source": [
    "num_users = len(data)\n",
    "num_users"
   ]
  },
  {
   "cell_type": "markdown",
   "metadata": {},
   "source": [
    "# Number of games"
   ]
  },
  {
   "cell_type": "code",
   "execution_count": 10,
   "metadata": {},
   "outputs": [
    {
     "data": {
      "text/plain": [
       "5400"
      ]
     },
     "execution_count": 10,
     "metadata": {},
     "output_type": "execute_result"
    }
   ],
   "source": [
    "games = set()\n",
    "for _, user in data.iterrows():\n",
    "    for g in user['games']:\n",
    "        games.add(g['name'])\n",
    "num_games = len(games)\n",
    "num_games"
   ]
  },
  {
   "cell_type": "markdown",
   "metadata": {},
   "source": [
    "# Number of Ratings"
   ]
  },
  {
   "cell_type": "code",
   "execution_count": 6,
   "metadata": {},
   "outputs": [
    {
     "data": {
      "text/plain": [
       "1622810"
      ]
     },
     "execution_count": 6,
     "metadata": {},
     "output_type": "execute_result"
    }
   ],
   "source": [
    "num_ratings = 0\n",
    "for _, user in data.iterrows():\n",
    "    num_ratings += len(user['games'])\n",
    "num_ratings"
   ]
  },
  {
   "cell_type": "markdown",
   "metadata": {},
   "source": [
    "# Sparseness"
   ]
  },
  {
   "cell_type": "code",
   "execution_count": 11,
   "metadata": {},
   "outputs": [
    {
     "data": {
      "text/plain": [
       "0.03995750171125786"
      ]
     },
     "execution_count": 11,
     "metadata": {},
     "output_type": "execute_result"
    }
   ],
   "source": [
    "num_ratings / (num_users * num_games)"
   ]
  },
  {
   "cell_type": "markdown",
   "metadata": {},
   "source": [
    "# Most played games"
   ]
  },
  {
   "cell_type": "code",
   "execution_count": 16,
   "metadata": {},
   "outputs": [
    {
     "data": {
      "text/html": [
       "<div>\n",
       "<style scoped>\n",
       "    .dataframe tbody tr th:only-of-type {\n",
       "        vertical-align: middle;\n",
       "    }\n",
       "\n",
       "    .dataframe tbody tr th {\n",
       "        vertical-align: top;\n",
       "    }\n",
       "\n",
       "    .dataframe thead th {\n",
       "        text-align: right;\n",
       "    }\n",
       "</style>\n",
       "<table border=\"1\" class=\"dataframe\">\n",
       "  <thead>\n",
       "    <tr style=\"text-align: right;\">\n",
       "      <th></th>\n",
       "      <th>playtime</th>\n",
       "      <th>installs</th>\n",
       "    </tr>\n",
       "  </thead>\n",
       "  <tbody>\n",
       "    <tr>\n",
       "      <td>0</td>\n",
       "      <td>(Counter-Strike: Global Offensive, 401097021)</td>\n",
       "      <td>(Counter-Strike: Global Offensive, 6846)</td>\n",
       "    </tr>\n",
       "    <tr>\n",
       "      <td>1</td>\n",
       "      <td>(Dota 2, 352996386)</td>\n",
       "      <td>(PAYDAY 2, 4689)</td>\n",
       "    </tr>\n",
       "    <tr>\n",
       "      <td>2</td>\n",
       "      <td>(Team Fortress 2, 69303185)</td>\n",
       "      <td>(Dota 2 Test, 4673)</td>\n",
       "    </tr>\n",
       "    <tr>\n",
       "      <td>3</td>\n",
       "      <td>(PLAYERUNKNOWN'S BATTLEGROUNDS, 58904972)</td>\n",
       "      <td>(Left 4 Dead 2, 4638)</td>\n",
       "    </tr>\n",
       "    <tr>\n",
       "      <td>4</td>\n",
       "      <td>(Rocket League, 42236641)</td>\n",
       "      <td>(Team Fortress 2, 4589)</td>\n",
       "    </tr>\n",
       "    <tr>\n",
       "      <td>5</td>\n",
       "      <td>(Counter-Strike: Source, 40726125)</td>\n",
       "      <td>(Dota 2, 4549)</td>\n",
       "    </tr>\n",
       "    <tr>\n",
       "      <td>6</td>\n",
       "      <td>(Garry's Mod, 37362622)</td>\n",
       "      <td>(Garry's Mod, 3949)</td>\n",
       "    </tr>\n",
       "    <tr>\n",
       "      <td>7</td>\n",
       "      <td>(Rust, 33807746)</td>\n",
       "      <td>(PLAYERUNKNOWN'S BATTLEGROUNDS, 3878)</td>\n",
       "    </tr>\n",
       "    <tr>\n",
       "      <td>8</td>\n",
       "      <td>(Counter-Strike, 30013780)</td>\n",
       "      <td>(Unturned, 3665)</td>\n",
       "    </tr>\n",
       "    <tr>\n",
       "      <td>9</td>\n",
       "      <td>(Arma 3, 29001365)</td>\n",
       "      <td>(Portal 2, 3620)</td>\n",
       "    </tr>\n",
       "  </tbody>\n",
       "</table>\n",
       "</div>"
      ],
      "text/plain": [
       "                                        playtime  \\\n",
       "0  (Counter-Strike: Global Offensive, 401097021)   \n",
       "1                            (Dota 2, 352996386)   \n",
       "2                    (Team Fortress 2, 69303185)   \n",
       "3      (PLAYERUNKNOWN'S BATTLEGROUNDS, 58904972)   \n",
       "4                      (Rocket League, 42236641)   \n",
       "5             (Counter-Strike: Source, 40726125)   \n",
       "6                        (Garry's Mod, 37362622)   \n",
       "7                               (Rust, 33807746)   \n",
       "8                     (Counter-Strike, 30013780)   \n",
       "9                             (Arma 3, 29001365)   \n",
       "\n",
       "                                   installs  \n",
       "0  (Counter-Strike: Global Offensive, 6846)  \n",
       "1                          (PAYDAY 2, 4689)  \n",
       "2                       (Dota 2 Test, 4673)  \n",
       "3                     (Left 4 Dead 2, 4638)  \n",
       "4                   (Team Fortress 2, 4589)  \n",
       "5                            (Dota 2, 4549)  \n",
       "6                       (Garry's Mod, 3949)  \n",
       "7     (PLAYERUNKNOWN'S BATTLEGROUNDS, 3878)  \n",
       "8                          (Unturned, 3665)  \n",
       "9                          (Portal 2, 3620)  "
      ]
     },
     "execution_count": 16,
     "metadata": {},
     "output_type": "execute_result"
    }
   ],
   "source": [
    "from collections import Counter\n",
    "playtime=Counter()\n",
    "game_counts = Counter()\n",
    "for _, user in data.iterrows():\n",
    "    for g in user['games']:\n",
    "        playtime[g['name']] += g['playtime_forever']\n",
    "        game_counts[g['name']] += 1\n",
    "pd.DataFrame({\"playtime\": playtime.most_common(10), 'installs': game_counts.most_common(10)})"
   ]
  },
  {
   "cell_type": "markdown",
   "metadata": {},
   "source": [
    "# Users with most games/ most played"
   ]
  },
  {
   "cell_type": "code",
   "execution_count": 101,
   "metadata": {},
   "outputs": [
    {
     "data": {
      "text/html": [
       "<div>\n",
       "<style scoped>\n",
       "    .dataframe tbody tr th:only-of-type {\n",
       "        vertical-align: middle;\n",
       "    }\n",
       "\n",
       "    .dataframe tbody tr th {\n",
       "        vertical-align: top;\n",
       "    }\n",
       "\n",
       "    .dataframe thead th {\n",
       "        text-align: right;\n",
       "    }\n",
       "</style>\n",
       "<table border=\"1\" class=\"dataframe\">\n",
       "  <thead>\n",
       "    <tr style=\"text-align: right;\">\n",
       "      <th></th>\n",
       "      <th>playtime</th>\n",
       "      <th>installs</th>\n",
       "    </tr>\n",
       "  </thead>\n",
       "  <tbody>\n",
       "    <tr>\n",
       "      <td>0</td>\n",
       "      <td>(76561198393005712, 24812201)</td>\n",
       "      <td>(76561198047578752, 1402)</td>\n",
       "    </tr>\n",
       "    <tr>\n",
       "      <td>1</td>\n",
       "      <td>(76561198076423200, 16846021)</td>\n",
       "      <td>(76561198015132768, 1401)</td>\n",
       "    </tr>\n",
       "    <tr>\n",
       "      <td>2</td>\n",
       "      <td>(76561198447102720, 9514700)</td>\n",
       "      <td>(76561197992345392, 1380)</td>\n",
       "    </tr>\n",
       "    <tr>\n",
       "      <td>3</td>\n",
       "      <td>(76561198140567424, 8900687)</td>\n",
       "      <td>(76561198000640032, 1379)</td>\n",
       "    </tr>\n",
       "    <tr>\n",
       "      <td>4</td>\n",
       "      <td>(76561198046329296, 6452274)</td>\n",
       "      <td>(76561198044057984, 1358)</td>\n",
       "    </tr>\n",
       "    <tr>\n",
       "      <td>...</td>\n",
       "      <td>...</td>\n",
       "      <td>...</td>\n",
       "    </tr>\n",
       "    <tr>\n",
       "      <td>95</td>\n",
       "      <td>(76561198000002112, 990775)</td>\n",
       "      <td>(76561197972204496, 1143)</td>\n",
       "    </tr>\n",
       "    <tr>\n",
       "      <td>96</td>\n",
       "      <td>(76561198048688928, 989346)</td>\n",
       "      <td>(76561198001975504, 1141)</td>\n",
       "    </tr>\n",
       "    <tr>\n",
       "      <td>97</td>\n",
       "      <td>(76561197964596432, 988705)</td>\n",
       "      <td>(76561197976653392, 1138)</td>\n",
       "    </tr>\n",
       "    <tr>\n",
       "      <td>98</td>\n",
       "      <td>(76561198025746352, 983251)</td>\n",
       "      <td>(76561197993738272, 1137)</td>\n",
       "    </tr>\n",
       "    <tr>\n",
       "      <td>99</td>\n",
       "      <td>(76561198007725488, 982000)</td>\n",
       "      <td>(76561197970839440, 1135)</td>\n",
       "    </tr>\n",
       "  </tbody>\n",
       "</table>\n",
       "<p>100 rows × 2 columns</p>\n",
       "</div>"
      ],
      "text/plain": [
       "                         playtime                   installs\n",
       "0   (76561198393005712, 24812201)  (76561198047578752, 1402)\n",
       "1   (76561198076423200, 16846021)  (76561198015132768, 1401)\n",
       "2    (76561198447102720, 9514700)  (76561197992345392, 1380)\n",
       "3    (76561198140567424, 8900687)  (76561198000640032, 1379)\n",
       "4    (76561198046329296, 6452274)  (76561198044057984, 1358)\n",
       "..                            ...                        ...\n",
       "95    (76561198000002112, 990775)  (76561197972204496, 1143)\n",
       "96    (76561198048688928, 989346)  (76561198001975504, 1141)\n",
       "97    (76561197964596432, 988705)  (76561197976653392, 1138)\n",
       "98    (76561198025746352, 983251)  (76561197993738272, 1137)\n",
       "99    (76561198007725488, 982000)  (76561197970839440, 1135)\n",
       "\n",
       "[100 rows x 2 columns]"
      ]
     },
     "execution_count": 101,
     "metadata": {},
     "output_type": "execute_result"
    }
   ],
   "source": [
    "playtime = Counter()\n",
    "game_counts = Counter()\n",
    "for _, user in data.iterrows():\n",
    "    for g in user['games']:\n",
    "        playtime[user['steam_id']] += g['playtime_forever']\n",
    "        game_counts[user['steam_id']] += 1\n",
    "pd.DataFrame({\"playtime\": playtime.most_common(100), 'installs': game_counts.most_common(100)})"
   ]
  },
  {
   "cell_type": "code",
   "execution_count": 119,
   "metadata": {},
   "outputs": [],
   "source": [
    "import seaborn as sns\n",
    "sns.set()\n",
    "sns.set_style('white')\n",
    "%matplotlib inline\n",
    "import matplotlib.pyplot as plt"
   ]
  },
  {
   "cell_type": "code",
   "execution_count": 128,
   "metadata": {},
   "outputs": [
    {
     "data": {
      "image/png": "[encoded data removed]",
      "text/plain": [
       "<Figure size 2160x360 with 1 Axes>"
      ]
     },
     "metadata": {
      "needs_background": "light"
     },
     "output_type": "display_data"
    }
   ],
   "source": [
    "fig, ax = plt.subplots(figsize=(30,5))\n",
    "sns.despine(fig, left=True)\n",
    "#sns.distplot(list(playtime.values()))\n",
    "sns.boxplot(list(playtime.values()), orient='h',fliersize=10);\n",
    "ax.set_title('Playtime distribution: there are several outliers, most probably bots',size=30);"
   ]
  },
  {
   "cell_type": "code",
   "execution_count": 131,
   "metadata": {},
   "outputs": [
    {
     "data": {
      "text/plain": [
       "count    7515.000000\n",
       "mean      215.942781\n",
       "std       261.875174\n",
       "min         2.000000\n",
       "25%        42.000000\n",
       "50%       111.000000\n",
       "75%       281.000000\n",
       "max      1402.000000\n",
       "dtype: float64"
      ]
     },
     "execution_count": 131,
     "metadata": {},
     "output_type": "execute_result"
    }
   ],
   "source": [
    "pd.Series(game_counts).describe()"
   ]
  },
  {
   "cell_type": "code",
   "execution_count": 133,
   "metadata": {},
   "outputs": [
    {
     "data": {
      "image/png": "[encoded data removed]",
      "text/plain": [
       "<Figure size 2160x360 with 1 Axes>"
      ]
     },
     "metadata": {
      "needs_background": "light"
     },
     "output_type": "display_data"
    }
   ],
   "source": [
    "fig, ax = plt.subplots(figsize=(30,5))\n",
    "sns.despine(fig, left=True)\n",
    "#sns.distplot(list(playtime.values()))\n",
    "sns.boxplot(list(game_counts.values()), orient='h', whis=1,fliersize=10);\n",
    "ax.set_title('Installs distribution: more balanced',size=30);"
   ]
  }
 ],
 "metadata": {
  "kernelspec": {
   "display_name": "Python 3",
   "language": "python",
   "name": "python3"
  },
  "language_info": {
   "codemirror_mode": {
    "name": "ipython",
    "version": 3
   },
   "file_extension": ".py",
   "mimetype": "text/x-python",
   "name": "python",
   "nbconvert_exporter": "python",
   "pygments_lexer": "ipython3",
   "version": "3.6.8"
  }
 },
 "nbformat": 4,
 "nbformat_minor": 4
}
