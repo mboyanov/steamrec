{
 "cells": [
  {
   "cell_type": "code",
   "execution_count": 1,
   "metadata": {},
   "outputs": [
    {
     "data": {
      "text/plain": [
       "\u001b[32mimport \u001b[39m\u001b[36m$ivy.$                                     // Or use any other 2.x version here\n",
       "\n",
       "\u001b[39m"
      ]
     },
     "execution_count": 1,
     "metadata": {},
     "output_type": "execute_result"
    }
   ],
   "source": [
    "import $ivy.`org.apache.spark::spark-mllib:2.4.4` // Or use any other 2.x version here\n",
    "\n"
   ]
  },
  {
   "cell_type": "code",
   "execution_count": 2,
   "metadata": {},
   "outputs": [
    {
     "data": {
      "text/plain": [
       "\u001b[32mimport \u001b[39m\u001b[36morg.apache.spark.ml.recommendation.ALSModel\n",
       "\u001b[39m\n",
       "\u001b[32mimport \u001b[39m\u001b[36morg.apache.log4j.{Level, Logger}\n",
       "\u001b[39m"
      ]
     },
     "execution_count": 2,
     "metadata": {},
     "output_type": "execute_result"
    }
   ],
   "source": [
    "import org.apache.spark.ml.recommendation.ALSModel\n",
    "import org.apache.log4j.{Level, Logger}\n",
    "Logger.getLogger(\"org\").setLevel(Level.OFF)\n"
   ]
  },
  {
   "cell_type": "code",
   "execution_count": 3,
   "metadata": {},
   "outputs": [
    {
     "name": "stdout",
     "output_type": "stream",
     "text": [
      "Loading spark-stubs\n",
      "Creating SparkSession\n"
     ]
    },
    {
     "name": "stderr",
     "output_type": "stream",
     "text": [
      "Using Spark's default log4j profile: org/apache/spark/log4j-defaults.properties\n"
     ]
    },
    {
     "data": {
      "text/html": [
       "<a href=\"http://mboyanov:4040\">Spark UI</a>"
      ]
     },
     "metadata": {},
     "output_type": "display_data"
    },
    {
     "data": {
      "text/plain": [
       "\u001b[32mimport \u001b[39m\u001b[36morg.apache.spark.sql._\n",
       "\n",
       "\u001b[39m\n",
       "\u001b[36mspark\u001b[39m: \u001b[32mSparkSession\u001b[39m = org.apache.spark.sql.SparkSession@719867ed"
      ]
     },
     "execution_count": 3,
     "metadata": {},
     "output_type": "execute_result"
    }
   ],
   "source": [
    "import org.apache.spark.sql._\n",
    "\n",
    "val spark = {\n",
    "  NotebookSparkSession.builder()\n",
    "    .master(\"local[*]\")\n",
    "    .getOrCreate()\n",
    "}"
   ]
  },
  {
   "cell_type": "code",
   "execution_count": 4,
   "metadata": {},
   "outputs": [
    {
     "data": {
      "text/plain": [
       "\u001b[36mmodel_path\u001b[39m: \u001b[32mString\u001b[39m = \u001b[32m\"data_dir/rank_100_it_5_lambda_0.01_alpha_10.0\"\u001b[39m"
      ]
     },
     "execution_count": 4,
     "metadata": {},
     "output_type": "execute_result"
    }
   ],
   "source": [
    "val model_path = \"data_dir/rank_100_it_5_lambda_0.01_alpha_10.0\""
   ]
  },
  {
   "cell_type": "code",
   "execution_count": 5,
   "metadata": {},
   "outputs": [
    {
     "data": {
      "text/html": [
       "<script>\n",
       "var comm = Jupyter.notebook.kernel.comm_manager.new_comm('cancel-stage-e0309277-ea07-41c0-be35-98f3c7450392', {});\n",
       "\n",
       "function cancelStage(stageId) {\n",
       "  console.log('Cancelling stage ' + stageId);\n",
       "  comm.send({ 'stageId': stageId });\n",
       "}\n",
       "</script>\n",
       "          "
      ]
     },
     "metadata": {},
     "output_type": "display_data"
    },
    {
     "data": {
      "text/html": [
       "<div>\n",
       "  <span style=\"float: left;\">first at ReadWrite.scala:615</span>\n",
       "</div>\n"
      ]
     },
     "metadata": {},
     "output_type": "display_data"
    },
    {
     "data": {
      "text/html": [
       "<div class=\"progress\">\n",
       "  <div class=\"progress-bar\" role=\"progressbar\" style=\"background-color: blue; width: 100%; word-wrap: normal; white-space: nowrap; text-align: center; color: white\" aria-valuenow=\"100\" aria-valuemin=\"0\" aria-valuemax=\"100\">\n",
       "    1 / 1\n",
       "  </div>\n",
       "  <div class=\"progress-bar\" role=\"progressbar\" style=\"background-color: red; width: 0%\" aria-valuenow=\"0\" aria-valuemin=\"0\" aria-valuemax=\"100\"></div>\n",
       "</div>\n"
      ]
     },
     "metadata": {},
     "output_type": "display_data"
    },
    {
     "data": {
      "text/html": [
       "<div>\n",
       "  <span style=\"float: left;\">load at ALS.scala:527</span>\n",
       "</div>\n"
      ]
     },
     "metadata": {},
     "output_type": "display_data"
    },
    {
     "data": {
      "text/html": [
       "<div class=\"progress\">\n",
       "  <div class=\"progress-bar\" role=\"progressbar\" style=\"background-color: blue; width: 100%; word-wrap: normal; white-space: nowrap; text-align: center; color: white\" aria-valuenow=\"100\" aria-valuemin=\"0\" aria-valuemax=\"100\">\n",
       "    1 / 1\n",
       "  </div>\n",
       "  <div class=\"progress-bar\" role=\"progressbar\" style=\"background-color: red; width: 0%\" aria-valuenow=\"0\" aria-valuemin=\"0\" aria-valuemax=\"100\"></div>\n",
       "</div>\n"
      ]
     },
     "metadata": {},
     "output_type": "display_data"
    },
    {
     "data": {
      "text/html": [
       "<div>\n",
       "  <span style=\"float: left;\">load at ALS.scala:529</span>\n",
       "</div>\n"
      ]
     },
     "metadata": {},
     "output_type": "display_data"
    },
    {
     "data": {
      "text/html": [
       "<div class=\"progress\">\n",
       "  <div class=\"progress-bar\" role=\"progressbar\" style=\"background-color: blue; width: 100%; word-wrap: normal; white-space: nowrap; text-align: center; color: white\" aria-valuenow=\"100\" aria-valuemin=\"0\" aria-valuemax=\"100\">\n",
       "    1 / 1\n",
       "  </div>\n",
       "  <div class=\"progress-bar\" role=\"progressbar\" style=\"background-color: red; width: 0%\" aria-valuenow=\"0\" aria-valuemin=\"0\" aria-valuemax=\"100\"></div>\n",
       "</div>\n"
      ]
     },
     "metadata": {},
     "output_type": "display_data"
    },
    {
     "data": {
      "text/plain": [
       "\u001b[36mmodel\u001b[39m: \u001b[32mALSModel\u001b[39m = als_59b35dbaf10c"
      ]
     },
     "execution_count": 5,
     "metadata": {},
     "output_type": "execute_result"
    }
   ],
   "source": [
    "val model = ALSModel.load(s\"${model_path}/model\")"
   ]
  },
  {
   "cell_type": "code",
   "execution_count": 6,
   "metadata": {},
   "outputs": [
    {
     "data": {
      "text/html": [
       "<div>\n",
       "  <span style=\"float: left;\">collect at cmd5.sc:1</span>\n",
       "</div>\n"
      ]
     },
     "metadata": {},
     "output_type": "display_data"
    },
    {
     "data": {
      "text/html": [
       "<div class=\"progress\">\n",
       "  <div class=\"progress-bar\" role=\"progressbar\" style=\"background-color: blue; width: 100%; word-wrap: normal; white-space: nowrap; text-align: center; color: white\" aria-valuenow=\"100\" aria-valuemin=\"0\" aria-valuemax=\"100\">\n",
       "    5 / 5\n",
       "  </div>\n",
       "  <div class=\"progress-bar\" role=\"progressbar\" style=\"background-color: red; width: 0%\" aria-valuenow=\"0\" aria-valuemin=\"0\" aria-valuemax=\"100\"></div>\n",
       "</div>\n"
      ]
     },
     "metadata": {},
     "output_type": "display_data"
    },
    {
     "data": {
      "text/plain": [
       "\u001b[36muFactors\u001b[39m: \u001b[32mArray\u001b[39m[\u001b[32mRow\u001b[39m] = \u001b[33mArray\u001b[39m(\n",
       "  [0,WrappedArray(-0.07842558, -0.009040744, 0.0026602852, -0.043742917, 0.008507386, 0.06376032, 0.023257194, 0.13379721, -0.05288267, 0.021022337, -0.0072809947, -0.04915109, -0.031043911, -0.083613425, -0.069741495, -0.0376622, -0.038180638, -0.109323554, 0.018948859, -0.08543017, 0.025043318, -0.055988844, 0.027571663, 0.06099711, -0.09237742, 0.07669848, 0.05864066, 0.04960023, 0.03617005, -0.102221325, 0.026542855, -0.018420117, -0.13633448, 0.07901816, 0.0013271015, -0.013619224, 0.0642235, -0.040142465, 0.026362404, 0.05024808, -0.012522385, 0.062924, -0.13071878, -0.009070973, 0.07334269, -0.013826496, -0.11461125, 0.034427807, -0.002638621, 0.022707315, -0.012971211, -0.0025671069, -0.21100244, -0.003189671, -0.04494909, 0.059765637, -0.0043729255, -0.005766184, -0.046168916, 0.0025281322, 0.008665321, 0.008808141, 0.020999227, 0.015573223, 0.11468908, -0.12699702, -0.09045124, 0.026186319, -0.12253917, -0.015888358, 0.03348125, -0.07449203, -0.051095944, 0.111039266, -0.018348916, 0.06370565, -0.1436096, -0.060246296, 0.11800887, -0.017067319, -0.0023955253, 0.012764031, -0.018005015, -0.08441251, 0.07891999, -0.0525607, 0.12091941, -0.112609446, -0.009777856, -0.014207889, -0.041292563, -0.07416427, -0.06260453, 0.032882847, 0.0023668201, 0.06910416, 0.23528089, 0.08761556, 0.027703905, -5.793742E-4)],\n",
       "  [10,WrappedArray(-0.03100225, -0.05438731, -0.0020992197, -0.06183496, -0.013396893, 0.05853089, -6.3577865E-4, 0.07871977, 0.0339668, -0.003379489, 0.035612293, -0.002177798, -0.011968725, -0.025998676, -0.0029908828, -0.018698828, -0.0072545325, -0.021476325, 0.099470146, -0.12264453, -0.037079416, -0.023984995, 0.09356813, -0.044665683, -0.01131458, -0.012152581, 0.0679303, -0.010391963, 0.035130065, -0.12368181, -0.027261307, 0.066509195, -0.035632536, 0.024043204, -8.178651E-4, -0.03657022, 0.100810505, -0.010751809, -0.015531044, 0.016452238, -0.004479304, 0.033076786, -0.056952294, 0.0478971, 0.0423134, -0.0860694, -0.027097158, -0.0384422, 0.057842914, -0.044171844, -0.010144238, 0.05309792, -0.10127256, 0.01929308, 0.007198172, 0.065329306, -0.051401947, 0.0016439842, -0.039874796, 0.020625792, 0.029716728, -0.008545598, -0.012358645, -0.026252793, 0.10907488, -0.09920483, -0.034289, 0.044606015, 0.0075114393, 0.007066255, 0.020761214, -0.003941507, -0.10006432, 0.024704117, -0.028579023, 2.523519E-4, -0.08675978, 0.03880346, 0.09215618, 0.018745568, -0.013893564, -0.009947073, 0.033951912, -0.012770882, 0.063025124, 0.04047785, 0.00862414, -0.07574884, 0.0054895002, 0.05787365, -0.06041164, -0.067620836, -0.07897876, 0.05408903, 0.01146443, 0.021156134, 0.156083, 0.047474805, 0.07127783, 0.046040338)],\n",
       "  [20,WrappedArray(-0.14337002, -0.09798906, -0.062188994, 0.17734976, -0.08294267, 0.21935992, -0.026499748, 0.043680783, -0.004091524, -0.09557086, -0.2451249, -0.105457254, 0.08086297, -0.02820668, 0.03503039, -0.17415407, -0.12199208, -0.21761599, 0.08987359, -0.41802964, 0.08887484, 0.119900905, 0.019069914, -0.12..."
      ]
     },
     "execution_count": 6,
     "metadata": {},
     "output_type": "execute_result"
    }
   ],
   "source": [
    "val uFactors = model.userFactors.collect"
   ]
  },
  {
   "cell_type": "code",
   "execution_count": 7,
   "metadata": {},
   "outputs": [
    {
     "data": {
      "text/html": [
       "<div>\n",
       "  <span style=\"float: left;\">collect at cmd6.sc:1</span>\n",
       "</div>\n"
      ]
     },
     "metadata": {},
     "output_type": "display_data"
    },
    {
     "data": {
      "text/html": [
       "<div class=\"progress\">\n",
       "  <div class=\"progress-bar\" role=\"progressbar\" style=\"background-color: blue; width: 100%; word-wrap: normal; white-space: nowrap; text-align: center; color: white\" aria-valuenow=\"100\" aria-valuemin=\"0\" aria-valuemax=\"100\">\n",
       "    5 / 5\n",
       "  </div>\n",
       "  <div class=\"progress-bar\" role=\"progressbar\" style=\"background-color: red; width: 0%\" aria-valuenow=\"0\" aria-valuemin=\"0\" aria-valuemax=\"100\"></div>\n",
       "</div>\n"
      ]
     },
     "metadata": {},
     "output_type": "display_data"
    },
    {
     "data": {
      "text/plain": [
       "\u001b[36miFactors\u001b[39m: \u001b[32mArray\u001b[39m[\u001b[32mRow\u001b[39m] = \u001b[33mArray\u001b[39m(\n",
       "  [9,WrappedArray(-0.035116088, 0.16482246, -0.31114033, -0.24245965, 0.106291614, 0.6201926, 0.20376284, 0.21556917, 0.40819937, 0.057198744, 0.14708833, -0.25307706, 0.025708852, -0.5420842, -0.2771805, 0.05427151, -0.11949542, -0.029832281, 0.5255653, -0.7620313, -0.14301768, 0.041552365, 0.43910494, -0.58724004, -0.11714065, 0.88331056, 0.8123038, -0.04105634, -0.27918255, -0.80821794, 0.18750644, 0.5368248, 0.09950465, -0.36289346, 0.3005955, -0.23172826, 0.1588529, 0.12675819, 0.20829172, 0.14915672, -0.3350041, -0.4723501, -0.12669906, 0.25672185, 0.009923903, -0.0013708358, -0.012500017, 0.25457442, 0.26141915, -0.3066308, -0.2811135, 0.3942254, -0.14485165, 0.39286202, 0.01055608, -0.08884665, 0.43866277, 0.57680887, -0.8447478, -0.0037955665, 0.5473575, 0.2748103, -0.37676844, 0.036368262, 0.32238197, -0.97168815, -0.5560716, 0.378023, 0.3535769, 0.35485122, 0.2404345, -0.31897742, -0.28370315, 0.101933405, -0.21643631, -0.15563776, -0.38478184, -0.3531658, 0.58152485, -0.29972544, 0.39446458, 0.4983559, -0.22071186, 0.028871719, -0.06927192, 0.059025507, 0.3719756, -0.48308685, 0.15894856, 0.039886475, -0.017328652, 0.0919355, 0.0036063583, 0.2691161, -0.39957345, -0.27307752, 0.34436017, 0.49750647, 0.33854595, 0.2149234)],\n",
       "  [19,WrappedArray(-0.15420952, 0.23227002, 0.5915582, 0.21569768, -0.059029415, 0.15625036, 0.16643685, -0.52098, -0.35701844, 0.1327646, 0.21885698, -0.061452292, -0.0807565, -0.34962243, 0.1337563, -0.35520157, 0.24897437, -0.04421958, -0.22250412, -0.015428278, -0.17780472, 0.08250028, -0.3855427, 0.095755495, 0.5225762, 0.53070784, 0.48893648, -0.5088472, 0.10603603, 0.14653586, 0.0025338372, 0.78989077, 0.5081002, -0.25620836, 0.021086946, 0.09204233, -0.19653279, 0.4764822, 0.51069236, -0.043297514, -0.029210422, 0.18047817, -0.15092121, -0.63734156, 0.71129006, -0.19122006, -0.41786635, -0.29310438, 0.24771953, 0.0074874954, 0.5942693, 0.5014334, -0.12925915, 0.2990305, -0.16381398, -0.44492954, -0.33781084, -0.15729755, 0.2972589, -0.2984761, 0.1608937, -0.46216038, -0.5048429, -0.014806198, 0.08720735, -0.4115468, -0.27908924, -0.08489999, 0.256369, 0.21011901, 0.03381427, -0.070848554, 0.04895654, -0.008883819, -0.24403045, -0.07423042, 0.19493893, -0.281555, -0.112723485, 0.11124871, 0.045088865, -0.13270509, 0.26723036, 0.20810278, 0.049355853, -0.07747424, 0.4325994, 0.4005083, -0.0057110684, 0.13271865, 0.09541454, 0.36464325, 0.0978768, 0.1948102, -0.002809701, 0.23067944, 0.3134177, 0.3260882, -0.27946818, -0.34711602)],\n",
       "  [29,WrappedArray(0.27304012, 0.4550445, -0.718942, 0.14041041, -0.27485874, 0.57082605, -0.34200764, -0.006743208, -0.22135107, 0.019036517, -0.32558066, -0.03541803, 0.6356571, 0.07971784, -0.44493577, -0.31961796, -0.28568017, -0.06315329, -0.35726944, 0.20753539, 0.31640056, 0.17748094, -0.30972257, -0.1485394, -0.16511583, 0.031627774, -0.31439, -0.7642056, -0.018253392, -0.20155738, 0.15119897, 0.19782624, -0.2744038, -0.081385314, -0.34765163, -0.1626186, 0.44622317, ..."
      ]
     },
     "execution_count": 7,
     "metadata": {},
     "output_type": "execute_result"
    }
   ],
   "source": [
    "val iFactors = model.itemFactors.collect"
   ]
  },
  {
   "cell_type": "code",
   "execution_count": 11,
   "metadata": {},
   "outputs": [
    {
     "data": {
      "text/html": [
       "<div>\n",
       "  <span style=\"float: left;\">json at cmd10.sc:1</span>\n",
       "</div>\n"
      ]
     },
     "metadata": {},
     "output_type": "display_data"
    },
    {
     "data": {
      "text/html": [
       "<div class=\"progress\">\n",
       "  <div class=\"progress-bar\" role=\"progressbar\" style=\"background-color: blue; width: 100%; word-wrap: normal; white-space: nowrap; text-align: center; color: white\" aria-valuenow=\"100\" aria-valuemin=\"0\" aria-valuemax=\"100\">\n",
       "    5 / 5\n",
       "  </div>\n",
       "  <div class=\"progress-bar\" role=\"progressbar\" style=\"background-color: red; width: 0%\" aria-valuenow=\"0\" aria-valuemin=\"0\" aria-valuemax=\"100\"></div>\n",
       "</div>\n"
      ]
     },
     "metadata": {},
     "output_type": "display_data"
    },
    {
     "data": {
      "text/html": [
       "<div>\n",
       "  <span style=\"float: left;\">json at cmd10.sc:1</span>\n",
       "</div>\n"
      ]
     },
     "metadata": {},
     "output_type": "display_data"
    },
    {
     "data": {
      "text/html": [
       "<div class=\"progress\">\n",
       "  <div class=\"progress-bar\" role=\"progressbar\" style=\"background-color: blue; width: 100%; word-wrap: normal; white-space: nowrap; text-align: center; color: white\" aria-valuenow=\"100\" aria-valuemin=\"0\" aria-valuemax=\"100\">\n",
       "    1 / 1\n",
       "  </div>\n",
       "  <div class=\"progress-bar\" role=\"progressbar\" style=\"background-color: red; width: 0%\" aria-valuenow=\"0\" aria-valuemin=\"0\" aria-valuemax=\"100\"></div>\n",
       "</div>\n"
      ]
     },
     "metadata": {},
     "output_type": "display_data"
    }
   ],
   "source": [
    "model.userFactors.repartition(1).write.json(s\"${model_path}/user_factors\")"
   ]
  },
  {
   "cell_type": "code",
   "execution_count": 8,
   "metadata": {},
   "outputs": [
    {
     "data": {
      "text/html": [
       "<div>\n",
       "  <span style=\"float: left;\">json at cmd7.sc:1</span>\n",
       "</div>\n"
      ]
     },
     "metadata": {},
     "output_type": "display_data"
    },
    {
     "data": {
      "text/html": [
       "<div class=\"progress\">\n",
       "  <div class=\"progress-bar\" role=\"progressbar\" style=\"background-color: blue; width: 100%; word-wrap: normal; white-space: nowrap; text-align: center; color: white\" aria-valuenow=\"100\" aria-valuemin=\"0\" aria-valuemax=\"100\">\n",
       "    5 / 5\n",
       "  </div>\n",
       "  <div class=\"progress-bar\" role=\"progressbar\" style=\"background-color: red; width: 0%\" aria-valuenow=\"0\" aria-valuemin=\"0\" aria-valuemax=\"100\"></div>\n",
       "</div>\n"
      ]
     },
     "metadata": {},
     "output_type": "display_data"
    },
    {
     "data": {
      "text/html": [
       "<div>\n",
       "  <span style=\"float: left;\">json at cmd7.sc:1</span>\n",
       "</div>\n"
      ]
     },
     "metadata": {},
     "output_type": "display_data"
    },
    {
     "data": {
      "text/html": [
       "<div class=\"progress\">\n",
       "  <div class=\"progress-bar\" role=\"progressbar\" style=\"background-color: blue; width: 100%; word-wrap: normal; white-space: nowrap; text-align: center; color: white\" aria-valuenow=\"100\" aria-valuemin=\"0\" aria-valuemax=\"100\">\n",
       "    1 / 1\n",
       "  </div>\n",
       "  <div class=\"progress-bar\" role=\"progressbar\" style=\"background-color: red; width: 0%\" aria-valuenow=\"0\" aria-valuemin=\"0\" aria-valuemax=\"100\"></div>\n",
       "</div>\n"
      ]
     },
     "metadata": {},
     "output_type": "display_data"
    }
   ],
   "source": [
    "model.itemFactors.repartition(1).write.json(s\"${model_path}/item_factors\")"
   ]
  },
  {
   "cell_type": "code",
   "execution_count": 12,
   "metadata": {},
   "outputs": [
    {
     "data": {
      "text/plain": [
       "\u001b[32mimport \u001b[39m\u001b[36mspark.implicits._\u001b[39m"
      ]
     },
     "execution_count": 12,
     "metadata": {},
     "output_type": "execute_result"
    }
   ],
   "source": [
    "import spark.implicits._"
   ]
  },
  {
   "cell_type": "code",
   "execution_count": 13,
   "metadata": {},
   "outputs": [
    {
     "data": {
      "text/plain": [
       "\u001b[36musers\u001b[39m: \u001b[32mDataFrame\u001b[39m = [user: int]"
      ]
     },
     "execution_count": 13,
     "metadata": {},
     "output_type": "execute_result"
    }
   ],
   "source": [
    "\n",
    "val users = spark.createDataset(Seq(0)).toDF(\"user\")"
   ]
  },
  {
   "cell_type": "code",
   "execution_count": 16,
   "metadata": {},
   "outputs": [
    {
     "data": {
      "text/plain": [
       "\u001b[36mrecs\u001b[39m: \u001b[32mDataFrame\u001b[39m = [user: int, recommendations: array<struct<item:int,rating:float>>]"
      ]
     },
     "execution_count": 16,
     "metadata": {},
     "output_type": "execute_result"
    }
   ],
   "source": [
    "val recs = model.recommendForUserSubset(users,1000)"
   ]
  },
  {
   "cell_type": "code",
   "execution_count": 17,
   "metadata": {},
   "outputs": [
    {
     "data": {
      "text/html": [
       "<div>\n",
       "  <span style=\"float: left;\">run at ThreadPoolExecutor.java:1149</span>\n",
       "</div>\n"
      ]
     },
     "metadata": {},
     "output_type": "display_data"
    },
    {
     "data": {
      "text/html": [
       "<div class=\"progress\">\n",
       "  <div class=\"progress-bar\" role=\"progressbar\" style=\"background-color: blue; width: 100%; word-wrap: normal; white-space: nowrap; text-align: center; color: white\" aria-valuenow=\"100\" aria-valuemin=\"0\" aria-valuemax=\"100\">\n",
       "    1 / 1\n",
       "  </div>\n",
       "  <div class=\"progress-bar\" role=\"progressbar\" style=\"background-color: red; width: 0%\" aria-valuenow=\"0\" aria-valuemin=\"0\" aria-valuemax=\"100\"></div>\n",
       "</div>\n"
      ]
     },
     "metadata": {},
     "output_type": "display_data"
    },
    {
     "data": {
      "text/html": [
       "<div>\n",
       "  <span style=\"float: left;\">run at ThreadPoolExecutor.java:1149</span>\n",
       "</div>\n"
      ]
     },
     "metadata": {},
     "output_type": "display_data"
    },
    {
     "data": {
      "text/html": [
       "<div class=\"progress\">\n",
       "  <div class=\"progress-bar\" role=\"progressbar\" style=\"background-color: blue; width: 100%; word-wrap: normal; white-space: nowrap; text-align: center; color: white\" aria-valuenow=\"100\" aria-valuemin=\"0\" aria-valuemax=\"100\">\n",
       "    5 / 5\n",
       "  </div>\n",
       "  <div class=\"progress-bar\" role=\"progressbar\" style=\"background-color: red; width: 0%\" aria-valuenow=\"0\" aria-valuemin=\"0\" aria-valuemax=\"100\"></div>\n",
       "</div>\n"
      ]
     },
     "metadata": {},
     "output_type": "display_data"
    },
    {
     "data": {
      "text/html": [
       "<div>\n",
       "  <span style=\"float: left;\">head at cmd16.sc:1</span>\n",
       "</div>\n"
      ]
     },
     "metadata": {},
     "output_type": "display_data"
    },
    {
     "data": {
      "text/html": [
       "<div class=\"progress\">\n",
       "  <div class=\"progress-bar\" role=\"progressbar\" style=\"background-color: blue; width: 100%; word-wrap: normal; white-space: nowrap; text-align: center; color: white\" aria-valuenow=\"100\" aria-valuemin=\"0\" aria-valuemax=\"100\">\n",
       "    5 / 5\n",
       "  </div>\n",
       "  <div class=\"progress-bar\" role=\"progressbar\" style=\"background-color: red; width: 0%\" aria-valuenow=\"0\" aria-valuemin=\"0\" aria-valuemax=\"100\"></div>\n",
       "</div>\n"
      ]
     },
     "metadata": {},
     "output_type": "display_data"
    },
    {
     "data": {
      "text/html": [
       "<div>\n",
       "  <span style=\"float: left;\">head at cmd16.sc:1</span>\n",
       "</div>\n"
      ]
     },
     "metadata": {},
     "output_type": "display_data"
    },
    {
     "data": {
      "text/html": [
       "<div class=\"progress\">\n",
       "  <div class=\"progress-bar\" role=\"progressbar\" style=\"background-color: blue; width: 100%; word-wrap: normal; white-space: nowrap; text-align: center; color: white\" aria-valuenow=\"100\" aria-valuemin=\"0\" aria-valuemax=\"100\">\n",
       "    1 / 1\n",
       "  </div>\n",
       "  <div class=\"progress-bar\" role=\"progressbar\" style=\"background-color: red; width: 0%\" aria-valuenow=\"0\" aria-valuemin=\"0\" aria-valuemax=\"100\"></div>\n",
       "</div>\n"
      ]
     },
     "metadata": {},
     "output_type": "display_data"
    },
    {
     "data": {
      "text/html": [
       "<div>\n",
       "  <span style=\"float: left;\">head at cmd16.sc:1</span>\n",
       "</div>\n"
      ]
     },
     "metadata": {},
     "output_type": "display_data"
    },
    {
     "data": {
      "text/html": [
       "<div class=\"progress\">\n",
       "  <div class=\"progress-bar\" role=\"progressbar\" style=\"background-color: blue; width: 100%; word-wrap: normal; white-space: nowrap; text-align: center; color: white\" aria-valuenow=\"100\" aria-valuemin=\"0\" aria-valuemax=\"100\">\n",
       "    4 / 4\n",
       "  </div>\n",
       "  <div class=\"progress-bar\" role=\"progressbar\" style=\"background-color: red; width: 0%\" aria-valuenow=\"0\" aria-valuemin=\"0\" aria-valuemax=\"100\"></div>\n",
       "</div>\n"
      ]
     },
     "metadata": {},
     "output_type": "display_data"
    },
    {
     "data": {
      "text/html": [
       "<div>\n",
       "  <span style=\"float: left;\">head at cmd16.sc:1</span>\n",
       "</div>\n"
      ]
     },
     "metadata": {},
     "output_type": "display_data"
    },
    {
     "data": {
      "text/html": [
       "<div class=\"progress\">\n",
       "  <div class=\"progress-bar\" role=\"progressbar\" style=\"background-color: blue; width: 100%; word-wrap: normal; white-space: nowrap; text-align: center; color: white\" aria-valuenow=\"100\" aria-valuemin=\"0\" aria-valuemax=\"100\">\n",
       "    20 / 20\n",
       "  </div>\n",
       "  <div class=\"progress-bar\" role=\"progressbar\" style=\"background-color: red; width: 0%\" aria-valuenow=\"0\" aria-valuemin=\"0\" aria-valuemax=\"100\"></div>\n",
       "</div>\n"
      ]
     },
     "metadata": {},
     "output_type": "display_data"
    },
    {
     "data": {
      "text/html": [
       "<div>\n",
       "  <span style=\"float: left;\">head at cmd16.sc:1</span>\n",
       "</div>\n"
      ]
     },
     "metadata": {},
     "output_type": "display_data"
    },
    {
     "data": {
      "text/html": [
       "<div class=\"progress\">\n",
       "  <div class=\"progress-bar\" role=\"progressbar\" style=\"background-color: blue; width: 100%; word-wrap: normal; white-space: nowrap; text-align: center; color: white\" aria-valuenow=\"100\" aria-valuemin=\"0\" aria-valuemax=\"100\">\n",
       "    100 / 100\n",
       "  </div>\n",
       "  <div class=\"progress-bar\" role=\"progressbar\" style=\"background-color: red; width: 0%\" aria-valuenow=\"0\" aria-valuemin=\"0\" aria-valuemax=\"100\"></div>\n",
       "</div>\n"
      ]
     },
     "metadata": {},
     "output_type": "display_data"
    },
    {
     "data": {
      "text/html": [
       "<div>\n",
       "  <span style=\"float: left;\">head at cmd16.sc:1</span>\n",
       "</div>\n"
      ]
     },
     "metadata": {},
     "output_type": "display_data"
    },
    {
     "data": {
      "text/html": [
       "<div class=\"progress\">\n",
       "  <div class=\"progress-bar\" role=\"progressbar\" style=\"background-color: blue; width: 100%; word-wrap: normal; white-space: nowrap; text-align: center; color: white\" aria-valuenow=\"100\" aria-valuemin=\"0\" aria-valuemax=\"100\">\n",
       "    75 / 75\n",
       "  </div>\n",
       "  <div class=\"progress-bar\" role=\"progressbar\" style=\"background-color: red; width: 0%\" aria-valuenow=\"0\" aria-valuemin=\"0\" aria-valuemax=\"100\"></div>\n",
       "</div>\n"
      ]
     },
     "metadata": {},
     "output_type": "display_data"
    },
    {
     "data": {
      "text/plain": [
       "\u001b[36mres16\u001b[39m: \u001b[32mArray\u001b[39m[\u001b[32mRow\u001b[39m] = \u001b[33mArray\u001b[39m(\n",
       "  [0,WrappedArray([9,0.9998198], [6,0.9994253], [3,0.9896057], [8,0.95701975], [4,0.9504272], [0,0.6889168], [164,0.64174086], [270,0.58688635], [321,0.5568616], [305,0.5554546], [7,0.54067075], [299,0.5247053], [319,0.5201434], [131,0.51783526], [281,0.49550053], [297,0.48222396], [1589,0.48043996], [324,0.4660332], [66,0.462397], [328,0.46189767], [1163,0.46016228], [796,0.45715895], [262,0.45160472], [1385,0.45033094], [296,0.4120285], [279,0.41009313], [42,0.408076], [2,0.389066], [61,0.38220748], [714,0.37462252], [80,0.36884978], [819,0.3649351], [170,0.35815194], [224,0.35450587], [249,0.33256194], [772,0.33116844], [362,0.32680166], [329,0.32517686], [106,0.3221301], [438,0.32121447], [285,0.32096958], [1108,0.3195253], [650,0.31649455], [5,0.31537923], [1002,0.30981508], [471,0.3032417], [259,0.3010294], [558,0.29749772], [1940,0.2972986], [234,0.29682094], [996,0.29600406], [768,0.29519916], [141,0.29483795], [37,0.2914761], [1258,0.28993866], [186,0.28962144], [280,0.2836928], [2867,0.2803334], [2583,0.2787224], [2687,0.27828377], [27,0.2748715], [898,0.27481347], [2938,0.27203962], [945,0.26752093], [317,0.2652719], [2516,0.2618133], [513,0.26179075], [1169,0.261371], [14,0.25761166], [60,0.24452569], [2027,0.24257608], [1392,0.23913297], [915,0.23902807], [50,0.23743781], [1151,0.23618576], [1821,0.23494677], [4622,0.23323077], [304,0.23315504], [123,0.23026234], [1065,0.22946663], [1243,0.22943187], [589,0.22589378], [797,0.22509322], [450,0.2221728], [1135,0.22107501], [929,0.21828762], [311,0.21374914], [264,0.21334253], [641,0.21216418], [32,0.21037428], [16,0.21010458], [1140,0.20959654], [250,0.20908491], [1794,0.20833544], [220,0.205939], [1993,0.2049496], [217,0.20466578], [820,0.19959183], [331,0.19949302], [1871,0.1990388], [1230,0.19730802], [586,0.19704494], [1277,0.19544132], [3407,0.19262671], [33,0.19188446], [1797,0.19002278], [1580,0.18953654], [954,0.18838148], [3885,0.18820256], [221,0.18731034], [13,0.18552041], [26,0.18330222], [1013,0.18308902], [1124,0.18212625], [21,0.18119416], [951,0.18075813], [1289,0.17981702], [3116,0.17893745], [1222,0.17426504], [1417,0.17418155], [1939,0.17393215], [75,0.17355247], [1005,0.17309628], [1936,0.17196643], [1177,0.17169881], [2926,0.16941611], [322,0.16923901], [2079,0.16795963], [1220,0.1671846], [604,0.1657677], [40,0.1656208], [1021,0.1655938], [1868,0.16426156], [4646,0.16377021], [793,0.16355193], [858,0.16023897], [1305,0.15998177], [2751,0.15740821], [973,0.15595993], [505,0.15539056], [364,0.15538101], [3082,0.15507089], [672,0.15380043], [330,0.15271187], [4714,0.15093924], [1118,0.1505287], [303,0.15027586], [1771,0.14905584], [1521,0.1490061], [959,0.14713989], [2434,0.14681855], [1883,0.14599107], [627,0.14546378], [3679,0.14387256], [499,0.14368421], [1048,0.14364237], [256,0.14257966], [778,0.14235844], [3255,0.14230141], [76,0.14223325], [1143,0.14188527], [41,0.14180815], [1862,0.14155354], [985,0.14121838], [1147,0.14032632], [1881,0.13991217], [677,0.13965268], [1084,0.13940875], [48,0.13852751..."
      ]
     },
     "execution_count": 17,
     "metadata": {},
     "output_type": "execute_result"
    }
   ],
   "source": [
    "recs.head(1000)\n"
   ]
  },
  {
   "cell_type": "code",
   "execution_count": null,
   "metadata": {},
   "outputs": [],
   "source": [
    "recs.head(1000)"
   ]
  }
 ],
 "metadata": {
  "kernelspec": {
   "display_name": "Scala",
   "language": "scala",
   "name": "scala"
  },
  "language_info": {
   "codemirror_mode": "text/x-scala",
   "file_extension": ".scala",
   "mimetype": "text/x-scala",
   "name": "scala",
   "nbconvert_exporter": "script",
   "version": "2.12.9"
  }
 },
 "nbformat": 4,
 "nbformat_minor": 2
}
