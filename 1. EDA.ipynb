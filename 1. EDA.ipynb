{
 "cells": [
  {
   "cell_type": "code",
   "execution_count": 1,
   "metadata": {},
   "outputs": [],
   "source": [
    "import pandas as pd\n",
    "import json"
   ]
  },
  {
   "cell_type": "code",
   "execution_count": 2,
   "metadata": {},
   "outputs": [],
   "source": [
    "data_path = 'data_dir/train-test-split-v2.json'"
   ]
  },
  {
   "cell_type": "code",
   "execution_count": 3,
   "metadata": {},
   "outputs": [],
   "source": [
    "data = pd.read_json(data_path,lines=True)"
   ]
  },
  {
   "cell_type": "markdown",
   "metadata": {},
   "source": [
    "\n",
    "What does our data look like?\n"
   ]
  },
  {
   "cell_type": "code",
   "execution_count": 4,
   "metadata": {},
   "outputs": [
    {
     "data": {
      "text/plain": [
       "steam_id                                       76561198046794976\n",
       "games          [{'appid': 205790, 'name': 'Dota 2 Test', 'pla...\n",
       "valid_games    [{'appid': 570, 'name': 'Dota 2', 'playtime_fo...\n",
       "train_games    [{'appid': 214420, 'name': 'Gear Up', 'playtim...\n",
       "Name: 0, dtype: object"
      ]
     },
     "execution_count": 4,
     "metadata": {},
     "output_type": "execute_result"
    }
   ],
   "source": [
    "data.iloc[0]"
   ]
  },
  {
   "cell_type": "code",
   "execution_count": 7,
   "metadata": {},
   "outputs": [
    {
     "data": {
      "text/html": [
       "<div>\n",
       "<style scoped>\n",
       "    .dataframe tbody tr th:only-of-type {\n",
       "        vertical-align: middle;\n",
       "    }\n",
       "\n",
       "    .dataframe tbody tr th {\n",
       "        vertical-align: top;\n",
       "    }\n",
       "\n",
       "    .dataframe thead th {\n",
       "        text-align: right;\n",
       "    }\n",
       "</style>\n",
       "<table border=\"1\" class=\"dataframe\">\n",
       "  <thead>\n",
       "    <tr style=\"text-align: right;\">\n",
       "      <th></th>\n",
       "      <th>name</th>\n",
       "      <th>playtime_forever</th>\n",
       "    </tr>\n",
       "  </thead>\n",
       "  <tbody>\n",
       "    <tr>\n",
       "      <th>9</th>\n",
       "      <td>Dota 2</td>\n",
       "      <td>71638</td>\n",
       "    </tr>\n",
       "    <tr>\n",
       "      <th>6</th>\n",
       "      <td>Paladins</td>\n",
       "      <td>49656</td>\n",
       "    </tr>\n",
       "    <tr>\n",
       "      <th>3</th>\n",
       "      <td>Counter-Strike: Global Offensive</td>\n",
       "      <td>2493</td>\n",
       "    </tr>\n",
       "    <tr>\n",
       "      <th>8</th>\n",
       "      <td>Team Fortress 2</td>\n",
       "      <td>1086</td>\n",
       "    </tr>\n",
       "    <tr>\n",
       "      <th>4</th>\n",
       "      <td>SMITE</td>\n",
       "      <td>540</td>\n",
       "    </tr>\n",
       "    <tr>\n",
       "      <th>2</th>\n",
       "      <td>Left 4 Dead 2</td>\n",
       "      <td>9</td>\n",
       "    </tr>\n",
       "    <tr>\n",
       "      <th>1</th>\n",
       "      <td>Gear Up</td>\n",
       "      <td>1</td>\n",
       "    </tr>\n",
       "    <tr>\n",
       "      <th>0</th>\n",
       "      <td>Dota 2 Test</td>\n",
       "      <td>0</td>\n",
       "    </tr>\n",
       "    <tr>\n",
       "      <th>5</th>\n",
       "      <td>Smite - Public Test</td>\n",
       "      <td>0</td>\n",
       "    </tr>\n",
       "    <tr>\n",
       "      <th>7</th>\n",
       "      <td>Paladins - Public Test</td>\n",
       "      <td>0</td>\n",
       "    </tr>\n",
       "  </tbody>\n",
       "</table>\n",
       "</div>"
      ],
      "text/plain": [
       "                               name  playtime_forever\n",
       "9                            Dota 2             71638\n",
       "6                          Paladins             49656\n",
       "3  Counter-Strike: Global Offensive              2493\n",
       "8                   Team Fortress 2              1086\n",
       "4                             SMITE               540\n",
       "2                     Left 4 Dead 2                 9\n",
       "1                           Gear Up                 1\n",
       "0                       Dota 2 Test                 0\n",
       "5               Smite - Public Test                 0\n",
       "7            Paladins - Public Test                 0"
      ]
     },
     "execution_count": 7,
     "metadata": {},
     "output_type": "execute_result"
    }
   ],
   "source": [
    "pd.DataFrame(data.iloc[0]['games']).sort_values('playtime_forever', ascending=False)[['name', 'playtime_forever']]"
   ]
  },
  {
   "cell_type": "markdown",
   "metadata": {},
   "source": [
    "# Number of users"
   ]
  },
  {
   "cell_type": "code",
   "execution_count": 8,
   "metadata": {},
   "outputs": [
    {
     "data": {
      "text/plain": [
       "7521"
      ]
     },
     "execution_count": 8,
     "metadata": {},
     "output_type": "execute_result"
    }
   ],
   "source": [
    "num_users = len(data)\n",
    "num_users"
   ]
  },
  {
   "cell_type": "markdown",
   "metadata": {},
   "source": [
    "# Number of games"
   ]
  },
  {
   "cell_type": "code",
   "execution_count": 9,
   "metadata": {},
   "outputs": [
    {
     "data": {
      "text/plain": [
       "5400"
      ]
     },
     "execution_count": 9,
     "metadata": {},
     "output_type": "execute_result"
    }
   ],
   "source": [
    "games = set()\n",
    "for _, user in data.iterrows():\n",
    "    for g in user['games']:\n",
    "        games.add(g['name'])\n",
    "num_games = len(games)\n",
    "num_games"
   ]
  },
  {
   "cell_type": "markdown",
   "metadata": {},
   "source": [
    "# Number of Ratings"
   ]
  },
  {
   "cell_type": "code",
   "execution_count": 10,
   "metadata": {},
   "outputs": [
    {
     "data": {
      "text/plain": [
       "1622810"
      ]
     },
     "execution_count": 10,
     "metadata": {},
     "output_type": "execute_result"
    }
   ],
   "source": [
    "num_ratings = 0\n",
    "for _, user in data.iterrows():\n",
    "    num_ratings += len(user['games'])\n",
    "num_ratings"
   ]
  },
  {
   "cell_type": "markdown",
   "metadata": {},
   "source": [
    "# Sparseness"
   ]
  },
  {
   "cell_type": "code",
   "execution_count": 13,
   "metadata": {},
   "outputs": [
    {
     "data": {
      "text/plain": [
       "0.03995750171125786"
      ]
     },
     "execution_count": 13,
     "metadata": {},
     "output_type": "execute_result"
    }
   ],
   "source": [
    "num_ratings / (num_users * num_games)"
   ]
  },
  {
   "cell_type": "markdown",
   "metadata": {},
   "source": [
    "# Most played games"
   ]
  },
  {
   "cell_type": "code",
   "execution_count": 15,
   "metadata": {},
   "outputs": [
    {
     "data": {
      "text/html": [
       "<div>\n",
       "<style scoped>\n",
       "    .dataframe tbody tr th:only-of-type {\n",
       "        vertical-align: middle;\n",
       "    }\n",
       "\n",
       "    .dataframe tbody tr th {\n",
       "        vertical-align: top;\n",
       "    }\n",
       "\n",
       "    .dataframe thead th {\n",
       "        text-align: right;\n",
       "    }\n",
       "</style>\n",
       "<table border=\"1\" class=\"dataframe\">\n",
       "  <thead>\n",
       "    <tr style=\"text-align: right;\">\n",
       "      <th></th>\n",
       "      <th>playtime</th>\n",
       "      <th>installs</th>\n",
       "    </tr>\n",
       "  </thead>\n",
       "  <tbody>\n",
       "    <tr>\n",
       "      <th>0</th>\n",
       "      <td>(Counter-Strike: Global Offensive, 401097021)</td>\n",
       "      <td>(Counter-Strike: Global Offensive, 6846)</td>\n",
       "    </tr>\n",
       "    <tr>\n",
       "      <th>1</th>\n",
       "      <td>(Dota 2, 352996386)</td>\n",
       "      <td>(PAYDAY 2, 4689)</td>\n",
       "    </tr>\n",
       "    <tr>\n",
       "      <th>2</th>\n",
       "      <td>(Team Fortress 2, 69303185)</td>\n",
       "      <td>(Dota 2 Test, 4673)</td>\n",
       "    </tr>\n",
       "    <tr>\n",
       "      <th>3</th>\n",
       "      <td>(PLAYERUNKNOWN'S BATTLEGROUNDS, 58904972)</td>\n",
       "      <td>(Left 4 Dead 2, 4638)</td>\n",
       "    </tr>\n",
       "    <tr>\n",
       "      <th>4</th>\n",
       "      <td>(Rocket League, 42236641)</td>\n",
       "      <td>(Team Fortress 2, 4589)</td>\n",
       "    </tr>\n",
       "    <tr>\n",
       "      <th>5</th>\n",
       "      <td>(Counter-Strike: Source, 40726125)</td>\n",
       "      <td>(Dota 2, 4549)</td>\n",
       "    </tr>\n",
       "    <tr>\n",
       "      <th>6</th>\n",
       "      <td>(Garry's Mod, 37362622)</td>\n",
       "      <td>(Garry's Mod, 3949)</td>\n",
       "    </tr>\n",
       "    <tr>\n",
       "      <th>7</th>\n",
       "      <td>(Rust, 33807746)</td>\n",
       "      <td>(PLAYERUNKNOWN'S BATTLEGROUNDS, 3878)</td>\n",
       "    </tr>\n",
       "    <tr>\n",
       "      <th>8</th>\n",
       "      <td>(Counter-Strike, 30013780)</td>\n",
       "      <td>(Unturned, 3665)</td>\n",
       "    </tr>\n",
       "    <tr>\n",
       "      <th>9</th>\n",
       "      <td>(Arma 3, 29001365)</td>\n",
       "      <td>(Portal 2, 3620)</td>\n",
       "    </tr>\n",
       "    <tr>\n",
       "      <th>10</th>\n",
       "      <td>(Grand Theft Auto V, 28958460)</td>\n",
       "      <td>(Warframe, 3619)</td>\n",
       "    </tr>\n",
       "    <tr>\n",
       "      <th>11</th>\n",
       "      <td>(Warframe, 23346471)</td>\n",
       "      <td>(Borderlands 2, 3271)</td>\n",
       "    </tr>\n",
       "    <tr>\n",
       "      <th>12</th>\n",
       "      <td>(Path of Exile, 22067115)</td>\n",
       "      <td>(Rocket League, 3238)</td>\n",
       "    </tr>\n",
       "    <tr>\n",
       "      <th>13</th>\n",
       "      <td>(Tom Clancy's Rainbow Six Siege, 19866122)</td>\n",
       "      <td>(Counter-Strike: Source, 3207)</td>\n",
       "    </tr>\n",
       "    <tr>\n",
       "      <th>14</th>\n",
       "      <td>(ARK: Survival Evolved, 16509984)</td>\n",
       "      <td>(Half-Life 2: Lost Coast, 3139)</td>\n",
       "    </tr>\n",
       "    <tr>\n",
       "      <th>15</th>\n",
       "      <td>(PAYDAY 2, 16347642)</td>\n",
       "      <td>(Insurgency, 3085)</td>\n",
       "    </tr>\n",
       "    <tr>\n",
       "      <th>16</th>\n",
       "      <td>(Terraria, 13416641)</td>\n",
       "      <td>(Terraria, 3007)</td>\n",
       "    </tr>\n",
       "    <tr>\n",
       "      <th>17</th>\n",
       "      <td>(The Elder Scrolls V: Skyrim, 13371987)</td>\n",
       "      <td>(Portal, 2995)</td>\n",
       "    </tr>\n",
       "    <tr>\n",
       "      <th>18</th>\n",
       "      <td>(Left 4 Dead 2, 12977929)</td>\n",
       "      <td>(Z1 Battle Royale, 2985)</td>\n",
       "    </tr>\n",
       "    <tr>\n",
       "      <th>19</th>\n",
       "      <td>(Clicker Heroes, 12607784)</td>\n",
       "      <td>(H1Z1: Test Server, 2985)</td>\n",
       "    </tr>\n",
       "  </tbody>\n",
       "</table>\n",
       "</div>"
      ],
      "text/plain": [
       "                                         playtime  \\\n",
       "0   (Counter-Strike: Global Offensive, 401097021)   \n",
       "1                             (Dota 2, 352996386)   \n",
       "2                     (Team Fortress 2, 69303185)   \n",
       "3       (PLAYERUNKNOWN'S BATTLEGROUNDS, 58904972)   \n",
       "4                       (Rocket League, 42236641)   \n",
       "5              (Counter-Strike: Source, 40726125)   \n",
       "6                         (Garry's Mod, 37362622)   \n",
       "7                                (Rust, 33807746)   \n",
       "8                      (Counter-Strike, 30013780)   \n",
       "9                              (Arma 3, 29001365)   \n",
       "10                 (Grand Theft Auto V, 28958460)   \n",
       "11                           (Warframe, 23346471)   \n",
       "12                      (Path of Exile, 22067115)   \n",
       "13     (Tom Clancy's Rainbow Six Siege, 19866122)   \n",
       "14              (ARK: Survival Evolved, 16509984)   \n",
       "15                           (PAYDAY 2, 16347642)   \n",
       "16                           (Terraria, 13416641)   \n",
       "17        (The Elder Scrolls V: Skyrim, 13371987)   \n",
       "18                      (Left 4 Dead 2, 12977929)   \n",
       "19                     (Clicker Heroes, 12607784)   \n",
       "\n",
       "                                    installs  \n",
       "0   (Counter-Strike: Global Offensive, 6846)  \n",
       "1                           (PAYDAY 2, 4689)  \n",
       "2                        (Dota 2 Test, 4673)  \n",
       "3                      (Left 4 Dead 2, 4638)  \n",
       "4                    (Team Fortress 2, 4589)  \n",
       "5                             (Dota 2, 4549)  \n",
       "6                        (Garry's Mod, 3949)  \n",
       "7      (PLAYERUNKNOWN'S BATTLEGROUNDS, 3878)  \n",
       "8                           (Unturned, 3665)  \n",
       "9                           (Portal 2, 3620)  \n",
       "10                          (Warframe, 3619)  \n",
       "11                     (Borderlands 2, 3271)  \n",
       "12                     (Rocket League, 3238)  \n",
       "13            (Counter-Strike: Source, 3207)  \n",
       "14           (Half-Life 2: Lost Coast, 3139)  \n",
       "15                        (Insurgency, 3085)  \n",
       "16                          (Terraria, 3007)  \n",
       "17                            (Portal, 2995)  \n",
       "18                  (Z1 Battle Royale, 2985)  \n",
       "19                 (H1Z1: Test Server, 2985)  "
      ]
     },
     "execution_count": 15,
     "metadata": {},
     "output_type": "execute_result"
    }
   ],
   "source": [
    "from collections import Counter\n",
    "playtime=Counter()\n",
    "game_counts = Counter()\n",
    "for _, user in data.iterrows():\n",
    "    for g in user['games']:\n",
    "        playtime[g['name']] += g['playtime_forever']\n",
    "        game_counts[g['name']] += 1\n",
    "pd.DataFrame({\"playtime\": playtime.most_common(20), 'installs': game_counts.most_common(20)})"
   ]
  },
  {
   "cell_type": "markdown",
   "metadata": {},
   "source": [
    "# Users with most games/ most played"
   ]
  },
  {
   "cell_type": "code",
   "execution_count": 16,
   "metadata": {},
   "outputs": [
    {
     "data": {
      "text/html": [
       "<div>\n",
       "<style scoped>\n",
       "    .dataframe tbody tr th:only-of-type {\n",
       "        vertical-align: middle;\n",
       "    }\n",
       "\n",
       "    .dataframe tbody tr th {\n",
       "        vertical-align: top;\n",
       "    }\n",
       "\n",
       "    .dataframe thead th {\n",
       "        text-align: right;\n",
       "    }\n",
       "</style>\n",
       "<table border=\"1\" class=\"dataframe\">\n",
       "  <thead>\n",
       "    <tr style=\"text-align: right;\">\n",
       "      <th></th>\n",
       "      <th>playtime</th>\n",
       "      <th>installs</th>\n",
       "    </tr>\n",
       "  </thead>\n",
       "  <tbody>\n",
       "    <tr>\n",
       "      <td>0</td>\n",
       "      <td>(76561198393005712, 24812201)</td>\n",
       "      <td>(76561198047578752, 1402)</td>\n",
       "    </tr>\n",
       "    <tr>\n",
       "      <td>1</td>\n",
       "      <td>(76561198076423200, 16846021)</td>\n",
       "      <td>(76561198015132768, 1401)</td>\n",
       "    </tr>\n",
       "    <tr>\n",
       "      <td>2</td>\n",
       "      <td>(76561198447102720, 9514700)</td>\n",
       "      <td>(76561197992345392, 1380)</td>\n",
       "    </tr>\n",
       "    <tr>\n",
       "      <td>3</td>\n",
       "      <td>(76561198140567424, 8900687)</td>\n",
       "      <td>(76561198000640032, 1379)</td>\n",
       "    </tr>\n",
       "    <tr>\n",
       "      <td>4</td>\n",
       "      <td>(76561198046329296, 6452274)</td>\n",
       "      <td>(76561198044057984, 1358)</td>\n",
       "    </tr>\n",
       "    <tr>\n",
       "      <td>...</td>\n",
       "      <td>...</td>\n",
       "      <td>...</td>\n",
       "    </tr>\n",
       "    <tr>\n",
       "      <td>95</td>\n",
       "      <td>(76561198000002112, 990775)</td>\n",
       "      <td>(76561197972204496, 1143)</td>\n",
       "    </tr>\n",
       "    <tr>\n",
       "      <td>96</td>\n",
       "      <td>(76561198048688928, 989346)</td>\n",
       "      <td>(76561198001975504, 1141)</td>\n",
       "    </tr>\n",
       "    <tr>\n",
       "      <td>97</td>\n",
       "      <td>(76561197964596432, 988705)</td>\n",
       "      <td>(76561197976653392, 1138)</td>\n",
       "    </tr>\n",
       "    <tr>\n",
       "      <td>98</td>\n",
       "      <td>(76561198025746352, 983251)</td>\n",
       "      <td>(76561197993738272, 1137)</td>\n",
       "    </tr>\n",
       "    <tr>\n",
       "      <td>99</td>\n",
       "      <td>(76561198007725488, 982000)</td>\n",
       "      <td>(76561197970839440, 1135)</td>\n",
       "    </tr>\n",
       "  </tbody>\n",
       "</table>\n",
       "<p>100 rows × 2 columns</p>\n",
       "</div>"
      ],
      "text/plain": [
       "                         playtime                   installs\n",
       "0   (76561198393005712, 24812201)  (76561198047578752, 1402)\n",
       "1   (76561198076423200, 16846021)  (76561198015132768, 1401)\n",
       "2    (76561198447102720, 9514700)  (76561197992345392, 1380)\n",
       "3    (76561198140567424, 8900687)  (76561198000640032, 1379)\n",
       "4    (76561198046329296, 6452274)  (76561198044057984, 1358)\n",
       "..                            ...                        ...\n",
       "95    (76561198000002112, 990775)  (76561197972204496, 1143)\n",
       "96    (76561198048688928, 989346)  (76561198001975504, 1141)\n",
       "97    (76561197964596432, 988705)  (76561197976653392, 1138)\n",
       "98    (76561198025746352, 983251)  (76561197993738272, 1137)\n",
       "99    (76561198007725488, 982000)  (76561197970839440, 1135)\n",
       "\n",
       "[100 rows x 2 columns]"
      ]
     },
     "execution_count": 16,
     "metadata": {},
     "output_type": "execute_result"
    }
   ],
   "source": [
    "playtime = Counter()\n",
    "game_counts = Counter()\n",
    "for _, user in data.iterrows():\n",
    "    for g in user['games']:\n",
    "        playtime[user['steam_id']] += g['playtime_forever']\n",
    "        game_counts[user['steam_id']] += 1\n",
    "pd.DataFrame({\"playtime\": playtime.most_common(100), 'installs': game_counts.most_common(100)})"
   ]
  },
  {
   "cell_type": "code",
   "execution_count": 16,
   "metadata": {},
   "outputs": [],
   "source": [
    "import seaborn as sns\n",
    "sns.set()\n",
    "sns.set_style('white')\n",
    "%matplotlib inline\n",
    "import matplotlib.pyplot as plt"
   ]
  },
  {
   "cell_type": "code",
   "execution_count": 21,
   "metadata": {},
   "outputs": [
    {
     "name": "stderr",
     "output_type": "stream",
     "text": [
      "/usr/local/lib/python3.8/dist-packages/seaborn/_decorators.py:36: FutureWarning: Pass the following variable as a keyword arg: x. From version 0.12, the only valid positional argument will be `data`, and passing other arguments without an explicit keyword will result in an error or misinterpretation.\n",
      "  warnings.warn(\n"
     ]
    },
    {
     "data": {
      "image/png": "[encoded data removed]",
      "text/plain": [
       "<Figure size 2160x360 with 1 Axes>"
      ]
     },
     "metadata": {
      "needs_background": "light"
     },
     "output_type": "display_data"
    }
   ],
   "source": [
    "fig, ax = plt.subplots(figsize=(30,5))\n",
    "sns.despine(fig, left=True)\n",
    "#sns.distplot(list(playtime.values()))\n",
    "sns.boxplot(list(playtime.values()), orient='h',fliersize=10);\n",
    "ax.set_title('Playtime distribution: there are several outliers, most probably bots',size=30);"
   ]
  },
  {
   "cell_type": "code",
   "execution_count": 22,
   "metadata": {},
   "outputs": [
    {
     "data": {
      "text/plain": [
       "count    5400.000000\n",
       "mean      300.520370\n",
       "std       430.630764\n",
       "min        50.000000\n",
       "25%        84.000000\n",
       "50%       152.000000\n",
       "75%       331.000000\n",
       "max      6846.000000\n",
       "dtype: float64"
      ]
     },
     "execution_count": 22,
     "metadata": {},
     "output_type": "execute_result"
    }
   ],
   "source": [
    "pd.Series(game_counts).describe()"
   ]
  },
  {
   "cell_type": "code",
   "execution_count": 23,
   "metadata": {},
   "outputs": [
    {
     "name": "stderr",
     "output_type": "stream",
     "text": [
      "/usr/local/lib/python3.8/dist-packages/seaborn/_decorators.py:36: FutureWarning: Pass the following variable as a keyword arg: x. From version 0.12, the only valid positional argument will be `data`, and passing other arguments without an explicit keyword will result in an error or misinterpretation.\n",
      "  warnings.warn(\n"
     ]
    },
    {
     "data": {
      "image/png": "[encoded data removed]",
      "text/plain": [
       "<Figure size 2160x360 with 1 Axes>"
      ]
     },
     "metadata": {
      "needs_background": "light"
     },
     "output_type": "display_data"
    }
   ],
   "source": [
    "fig, ax = plt.subplots(figsize=(30,5))\n",
    "sns.despine(fig, left=True)\n",
    "#sns.distplot(list(playtime.values()))\n",
    "sns.boxplot(list(game_counts.values()), orient='h', whis=1,fliersize=10);\n",
    "ax.set_title('Installs distribution: more balanced',size=30);"
   ]
  }
 ],
 "metadata": {
  "kernelspec": {
   "display_name": "Python 3",
   "language": "python",
   "name": "python3"
  },
  "language_info": {
   "codemirror_mode": {
    "name": "ipython",
    "version": 3
   },
   "file_extension": ".py",
   "mimetype": "text/x-python",
   "name": "python",
   "nbconvert_exporter": "python",
   "pygments_lexer": "ipython3",
   "version": "3.8.5"
  }
 },
 "nbformat": 4,
 "nbformat_minor": 4
}
