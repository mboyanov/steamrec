{
 "cells": [
  {
   "cell_type": "code",
   "execution_count": 1,
   "metadata": {},
   "outputs": [
    {
     "data": {
      "text/plain": [
       "\u001b[32mimport \u001b[39m\u001b[36m$ivy.$                                     // Or use any other 2.x version here\n",
       "\n",
       "\u001b[39m"
      ]
     },
     "execution_count": 1,
     "metadata": {},
     "output_type": "execute_result"
    }
   ],
   "source": [
    "import $ivy.`org.apache.spark::spark-mllib:2.4.4` // Or use any other 2.x version here\n",
    "import $ivy.`default::steamrec:0.1.0-SNAPSHOT`\n"
   ]
  },
  {
   "cell_type": "code",
   "execution_count": 2,
   "metadata": {},
   "outputs": [
    {
     "data": {
      "text/plain": [
       "\u001b[32mimport \u001b[39m\u001b[36m$ivy.$                                 \u001b[39m"
      ]
     },
     "execution_count": 2,
     "metadata": {},
     "output_type": "execute_result"
    }
   ],
   "source": [
    "import com.steamrec.DataLoader\n",
    "import com.steamrec.User\n",
    "import com.steamrec.Game\n",
    "import org.apache.spark.ml.recommendation.ALS.Rating\n",
    "import org.apache.spark.ml.recommendation.ALSModel\n",
    "import org.apache.log4j.{Level, Logger}\n",
    "Logger.getLogger(\"org\").setLevel(Level.OFF)"
   ]
  },
  {
   "cell_type": "code",
   "execution_count": 3,
   "metadata": {},
   "outputs": [
    {
     "data": {
      "text/plain": [
       "\u001b[32mimport \u001b[39m\u001b[36morg.apache.spark.ml.recommendation.ALSModel\n",
       "\u001b[39m\n",
       "\u001b[32mimport \u001b[39m\u001b[36morg.apache.log4j.{Level, Logger}\n",
       "\u001b[39m"
      ]
     },
     "execution_count": 3,
     "metadata": {},
     "output_type": "execute_result"
    }
   ],
   "source": []
  },
  {
   "cell_type": "code",
   "execution_count": 4,
   "metadata": {},
   "outputs": [
    {
     "name": "stdout",
     "output_type": "stream",
     "text": [
      "Loading spark-stubs\n",
      "Creating SparkSession\n"
     ]
    },
    {
     "name": "stderr",
     "output_type": "stream",
     "text": [
      "Using Spark's default log4j profile: org/apache/spark/log4j-defaults.properties\n"
     ]
    },
    {
     "data": {
      "text/html": [
       "<a href=\"http://mboyanov:4040\">Spark UI</a>"
      ]
     },
     "metadata": {},
     "output_type": "display_data"
    },
    {
     "data": {
      "text/plain": [
       "\u001b[32mimport \u001b[39m\u001b[36morg.apache.spark.sql._\n",
       "\n",
       "\u001b[39m\n",
       "\u001b[36mspark\u001b[39m: \u001b[32mSparkSession\u001b[39m = org.apache.spark.sql.SparkSession@2fcfa103\n",
       "\u001b[32mimport \u001b[39m\u001b[36mspark.implicits._\u001b[39m"
      ]
     },
     "execution_count": 4,
     "metadata": {},
     "output_type": "execute_result"
    }
   ],
   "source": [
    "import org.apache.spark.sql._\n",
    "\n",
    "val spark = {\n",
    "  NotebookSparkSession.builder()\n",
    "    .master(\"local[*]\")\n",
    "    .getOrCreate()\n",
    "}\n",
    "import spark.implicits._"
   ]
  },
  {
   "cell_type": "code",
   "execution_count": 5,
   "metadata": {},
   "outputs": [
    {
     "data": {
      "text/plain": [
       "\u001b[36mmodel_path\u001b[39m: \u001b[32mString\u001b[39m = \u001b[32m\"data_dir/rank_500_it_10_lambda_0.01_alpha_10.0\"\u001b[39m"
      ]
     },
     "execution_count": 5,
     "metadata": {},
     "output_type": "execute_result"
    }
   ],
   "source": [
    "val model_path = \"data_dir/rank_500_it_10_lambda_0.01_alpha_10.0\""
   ]
  },
  {
   "cell_type": "code",
   "execution_count": 6,
   "metadata": {},
   "outputs": [
    {
     "data": {
      "text/html": [
       "<script>\n",
       "var comm = Jupyter.notebook.kernel.comm_manager.new_comm('cancel-stage-c76b138f-791f-45d7-8808-b8af0dcd4921', {});\n",
       "\n",
       "function cancelStage(stageId) {\n",
       "  console.log('Cancelling stage ' + stageId);\n",
       "  comm.send({ 'stageId': stageId });\n",
       "}\n",
       "</script>\n",
       "          "
      ]
     },
     "metadata": {},
     "output_type": "display_data"
    },
    {
     "data": {
      "text/html": [
       "<div>\n",
       "  <span style=\"float: left;\">first at ReadWrite.scala:615</span>\n",
       "</div>\n"
      ]
     },
     "metadata": {},
     "output_type": "display_data"
    },
    {
     "data": {
      "text/html": [
       "<div class=\"progress\">\n",
       "  <div class=\"progress-bar\" role=\"progressbar\" style=\"background-color: blue; width: 100%; word-wrap: normal; white-space: nowrap; text-align: center; color: white\" aria-valuenow=\"100\" aria-valuemin=\"0\" aria-valuemax=\"100\">\n",
       "    1 / 1\n",
       "  </div>\n",
       "  <div class=\"progress-bar\" role=\"progressbar\" style=\"background-color: red; width: 0%\" aria-valuenow=\"0\" aria-valuemin=\"0\" aria-valuemax=\"100\"></div>\n",
       "</div>\n"
      ]
     },
     "metadata": {},
     "output_type": "display_data"
    },
    {
     "data": {
      "text/html": [
       "<div>\n",
       "  <span style=\"float: left;\">load at ALS.scala:527</span>\n",
       "</div>\n"
      ]
     },
     "metadata": {},
     "output_type": "display_data"
    },
    {
     "data": {
      "text/html": [
       "<div class=\"progress\">\n",
       "  <div class=\"progress-bar\" role=\"progressbar\" style=\"background-color: blue; width: 100%; word-wrap: normal; white-space: nowrap; text-align: center; color: white\" aria-valuenow=\"100\" aria-valuemin=\"0\" aria-valuemax=\"100\">\n",
       "    1 / 1\n",
       "  </div>\n",
       "  <div class=\"progress-bar\" role=\"progressbar\" style=\"background-color: red; width: 0%\" aria-valuenow=\"0\" aria-valuemin=\"0\" aria-valuemax=\"100\"></div>\n",
       "</div>\n"
      ]
     },
     "metadata": {},
     "output_type": "display_data"
    },
    {
     "data": {
      "text/html": [
       "<div>\n",
       "  <span style=\"float: left;\">load at ALS.scala:529</span>\n",
       "</div>\n"
      ]
     },
     "metadata": {},
     "output_type": "display_data"
    },
    {
     "data": {
      "text/html": [
       "<div class=\"progress\">\n",
       "  <div class=\"progress-bar\" role=\"progressbar\" style=\"background-color: blue; width: 100%; word-wrap: normal; white-space: nowrap; text-align: center; color: white\" aria-valuenow=\"100\" aria-valuemin=\"0\" aria-valuemax=\"100\">\n",
       "    1 / 1\n",
       "  </div>\n",
       "  <div class=\"progress-bar\" role=\"progressbar\" style=\"background-color: red; width: 0%\" aria-valuenow=\"0\" aria-valuemin=\"0\" aria-valuemax=\"100\"></div>\n",
       "</div>\n"
      ]
     },
     "metadata": {},
     "output_type": "display_data"
    },
    {
     "data": {
      "text/plain": [
       "\u001b[36mmodel\u001b[39m: \u001b[32mALSModel\u001b[39m = als_f54b54223746"
      ]
     },
     "execution_count": 6,
     "metadata": {},
     "output_type": "execute_result"
    }
   ],
   "source": [
    "val model = ALSModel.load(s\"${model_path}/model\")"
   ]
  },
  {
   "cell_type": "code",
   "execution_count": 7,
   "metadata": {},
   "outputs": [
    {
     "data": {
      "text/plain": [
       "\u001b[32mimport \u001b[39m\u001b[36mcom.steamrec.DataLoader\n",
       "\u001b[39m\n",
       "\u001b[32mimport \u001b[39m\u001b[36mcom.steamrec.User\n",
       "\u001b[39m\n",
       "\u001b[32mimport \u001b[39m\u001b[36mcom.steamrec.Game\n",
       "\u001b[39m\n",
       "\u001b[32mimport \u001b[39m\u001b[36morg.apache.spark.ml.recommendation.ALS.Rating\n",
       "\u001b[39m"
      ]
     },
     "execution_count": 7,
     "metadata": {},
     "output_type": "execute_result"
    }
   ],
   "source": []
  },
  {
   "cell_type": "code",
   "execution_count": 8,
   "metadata": {},
   "outputs": [
    {
     "data": {
      "text/html": [
       "<div>\n",
       "  <span style=\"float: left;\">json at DataLoader.scala:11</span>\n",
       "</div>\n"
      ]
     },
     "metadata": {},
     "output_type": "display_data"
    },
    {
     "data": {
      "text/html": [
       "<div class=\"progress\">\n",
       "  <div class=\"progress-bar\" role=\"progressbar\" style=\"background-color: blue; width: 100%; word-wrap: normal; white-space: nowrap; text-align: center; color: white\" aria-valuenow=\"100\" aria-valuemin=\"0\" aria-valuemax=\"100\">\n",
       "    9 / 9\n",
       "  </div>\n",
       "  <div class=\"progress-bar\" role=\"progressbar\" style=\"background-color: red; width: 0%\" aria-valuenow=\"0\" aria-valuemin=\"0\" aria-valuemax=\"100\"></div>\n",
       "</div>\n"
      ]
     },
     "metadata": {},
     "output_type": "display_data"
    },
    {
     "data": {
      "text/html": [
       "<div>\n",
       "  <span style=\"float: left;\">collect at GameData.scala:15</span>\n",
       "</div>\n"
      ]
     },
     "metadata": {},
     "output_type": "display_data"
    },
    {
     "data": {
      "text/html": [
       "<div class=\"progress\">\n",
       "  <div class=\"progress-bar\" role=\"progressbar\" style=\"background-color: blue; width: 100%; word-wrap: normal; white-space: nowrap; text-align: center; color: white\" aria-valuenow=\"100\" aria-valuemin=\"0\" aria-valuemax=\"100\">\n",
       "    9 / 9\n",
       "  </div>\n",
       "  <div class=\"progress-bar\" role=\"progressbar\" style=\"background-color: red; width: 0%\" aria-valuenow=\"0\" aria-valuemin=\"0\" aria-valuemax=\"100\"></div>\n",
       "</div>\n"
      ]
     },
     "metadata": {},
     "output_type": "display_data"
    },
    {
     "data": {
      "text/plain": [
       "\u001b[36mdata\u001b[39m: \u001b[32mcom\u001b[39m.\u001b[32msteamrec\u001b[39m.\u001b[32mGameData\u001b[39m = com.steamrec.GameData@192c9522"
      ]
     },
     "execution_count": 8,
     "metadata": {},
     "output_type": "execute_result"
    }
   ],
   "source": [
    "val data = DataLoader.loadData(\"data_dir/train-test-split-v2.json\")"
   ]
  },
  {
   "cell_type": "code",
   "execution_count": 9,
   "metadata": {},
   "outputs": [
    {
     "data": {
      "text/html": [
       "<div>\n",
       "  <span style=\"float: left;\">head at cmd8.sc:1</span>\n",
       "</div>\n"
      ]
     },
     "metadata": {},
     "output_type": "display_data"
    },
    {
     "data": {
      "text/html": [
       "<div class=\"progress\">\n",
       "  <div class=\"progress-bar\" role=\"progressbar\" style=\"background-color: blue; width: 100%; word-wrap: normal; white-space: nowrap; text-align: center; color: white\" aria-valuenow=\"100\" aria-valuemin=\"0\" aria-valuemax=\"100\">\n",
       "    1 / 1\n",
       "  </div>\n",
       "  <div class=\"progress-bar\" role=\"progressbar\" style=\"background-color: red; width: 0%\" aria-valuenow=\"0\" aria-valuemin=\"0\" aria-valuemax=\"100\"></div>\n",
       "</div>\n"
      ]
     },
     "metadata": {},
     "output_type": "display_data"
    },
    {
     "data": {
      "text/plain": [
       "\u001b[36mres8\u001b[39m: \u001b[32mArray\u001b[39m[\u001b[32mUser\u001b[39m] = \u001b[33mArray\u001b[39m(\n",
       "  \u001b[33mUser\u001b[39m(\n",
       "    0,\n",
       "    \u001b[33mList\u001b[39m(\n",
       "      \u001b[33mGame\u001b[39m(0, \u001b[32m\"Dota 2 Test\"\u001b[39m, 0),\n",
       "      \u001b[33mGame\u001b[39m(1, \u001b[32m\"Gear Up\"\u001b[39m, 1),\n",
       "      \u001b[33mGame\u001b[39m(2, \u001b[32m\"Left 4 Dead 2\"\u001b[39m, 9),\n",
       "      \u001b[33mGame\u001b[39m(3, \u001b[32m\"Counter-Strike: Global Offensive\"\u001b[39m, 2493),\n",
       "      \u001b[33mGame\u001b[39m(4, \u001b[32m\"SMITE\"\u001b[39m, 540),\n",
       "      \u001b[33mGame\u001b[39m(5, \u001b[32m\"Smite - Public Test\"\u001b[39m, 0),\n",
       "      \u001b[33mGame\u001b[39m(6, \u001b[32m\"Paladins\"\u001b[39m, 49656),\n",
       "      \u001b[33mGame\u001b[39m(7, \u001b[32m\"Paladins - Public Test\"\u001b[39m, 0),\n",
       "      \u001b[33mGame\u001b[39m(8, \u001b[32m\"Team Fortress 2\"\u001b[39m, 1086),\n",
       "      \u001b[33mGame\u001b[39m(9, \u001b[32m\"Dota 2\"\u001b[39m, 71638)\n",
       "    ),\n",
       "    \u001b[33mList\u001b[39m(\n",
       "      \u001b[33mGame\u001b[39m(0, \u001b[32m\"Dota 2 Test\"\u001b[39m, 0),\n",
       "      \u001b[33mGame\u001b[39m(3, \u001b[32m\"Counter-Strike: Global Offensive\"\u001b[39m, 2493),\n",
       "      \u001b[33mGame\u001b[39m(4, \u001b[32m\"SMITE\"\u001b[39m, 540),\n",
       "      \u001b[33mGame\u001b[39m(5, \u001b[32m\"Smite - Public Test\"\u001b[39m, 0),\n",
       "      \u001b[33mGame\u001b[39m(6, \u001b[32m\"Paladins\"\u001b[39m, 49656),\n",
       "      \u001b[33mGame\u001b[39m(7, \u001b[32m\"Paladins - Public Test\"\u001b[39m, 0),\n",
       "      \u001b[33mGame\u001b[39m(8, \u001b[32m\"Team Fortress 2\"\u001b[39m, 1086),\n",
       "      \u001b[33mGame\u001b[39m(9, \u001b[32m\"Dota 2\"\u001b[39m, 71638)\n",
       "    ),\n",
       "    \u001b[33mList\u001b[39m(\u001b[33mGame\u001b[39m(2, \u001b[32m\"Left 4 Dead 2\"\u001b[39m, 9), \u001b[33mGame\u001b[39m(1, \u001b[32m\"Gear Up\"\u001b[39m, 1))\n",
       "  )\n",
       ")"
      ]
     },
     "execution_count": 9,
     "metadata": {},
     "output_type": "execute_result"
    }
   ],
   "source": [
    "data.dataSet.head(1)"
   ]
  },
  {
   "cell_type": "code",
   "execution_count": 10,
   "metadata": {},
   "outputs": [
    {
     "data": {
      "text/plain": [
       "\u001b[32mimport \u001b[39m\u001b[36mcom.steamrec.ModelUtils\u001b[39m"
      ]
     },
     "execution_count": 10,
     "metadata": {},
     "output_type": "execute_result"
    }
   ],
   "source": [
    "import com.steamrec.ModelUtils"
   ]
  },
  {
   "cell_type": "code",
   "execution_count": 11,
   "metadata": {},
   "outputs": [
    {
     "data": {
      "text/plain": [
       "\u001b[36muserSubset\u001b[39m: \u001b[32mDataFrame\u001b[39m = [user: int]"
      ]
     },
     "execution_count": 11,
     "metadata": {},
     "output_type": "execute_result"
    }
   ],
   "source": [
    "val userSubset = spark.createDataset(Seq(0, 1, 2, 3,4,5,6,7,8,9)).toDF(\"user\")"
   ]
  },
  {
   "cell_type": "code",
   "execution_count": 18,
   "metadata": {},
   "outputs": [
    {
     "data": {
      "text/plain": [
       "\u001b[36mratings\u001b[39m: \u001b[32mDataFrame\u001b[39m = [user: int, recommendations: array<struct<item:int,rating:float>>]"
      ]
     },
     "execution_count": 18,
     "metadata": {},
     "output_type": "execute_result"
    }
   ],
   "source": [
    "val ratings = model.recommendForAllUsers(100)"
   ]
  },
  {
   "cell_type": "code",
   "execution_count": 13,
   "metadata": {},
   "outputs": [
    {
     "data": {
      "text/plain": [
       "\u001b[32mimport \u001b[39m\u001b[36mscala.collection.mutable\n",
       "\u001b[39m\n",
       "defined \u001b[32mclass\u001b[39m \u001b[36mRatingItem\u001b[39m\n",
       "defined \u001b[32mclass\u001b[39m \u001b[36mGroupedRating\u001b[39m\n",
       "defined \u001b[32mfunction\u001b[39m \u001b[36mrr\u001b[39m\n",
       "defined \u001b[32mfunction\u001b[39m \u001b[36mmapItem\u001b[39m\n",
       "defined \u001b[32mfunction\u001b[39m \u001b[36mrow2ratings\u001b[39m"
      ]
     },
     "execution_count": 13,
     "metadata": {},
     "output_type": "execute_result"
    }
   ],
   "source": [
    "\n",
    "import scala.collection.mutable\n",
    "case class RatingItem(item: Int, rating: Float)\n",
    "case class GroupedRating(user: Int, recommendations: Array[RatingItem])\n",
    "\n",
    "def rr(user: User, ratings: Iterator[Rating[Int]]): Double = {\n",
    "    val trainGames = user.train_games.map(g => g.game_id).toSet\n",
    "    val validGames = user.valid_games.map(g => g.game_id).toSet\n",
    "    val sortedRatings = ratings.toList\n",
    "      .filter(x => !trainGames.contains(x.item))\n",
    "      .sortBy(r => -r.rating);\n",
    "    sortedRatings.zipWithIndex.find((r)=>  validGames contains r._1.item)\n",
    "      .map(r => 1.0/ (r._2 + 1))\n",
    "      .getOrElse(0.0)\n",
    "\n",
    "\n",
    "}\n",
    "\n",
    "  def mapItem(uid:Int, ratingItem:Row): Rating[Int] = {\n",
    "    Rating(uid, ratingItem.getAs[Int](\"item\"), ratingItem.getAs[Float](\"rating\"))\n",
    "  }\n",
    "\n",
    "  def row2ratings(row: Row): Iterator[Rating[Int]] = {\n",
    "    val uid = row.getAs[Int](0)\n",
    "    row.getAs[mutable.WrappedArray[Row]](\"recommendations\")\n",
    "      .map(x => mapItem(uid, x)).toIterator\n",
    "  }"
   ]
  },
  {
   "cell_type": "code",
   "execution_count": 39,
   "metadata": {},
   "outputs": [
    {
     "data": {
      "text/html": [
       "<div>\n",
       "  <span style=\"float: left;\">head at cmd38.sc:1</span>\n",
       "</div>\n"
      ]
     },
     "metadata": {},
     "output_type": "display_data"
    },
    {
     "data": {
      "text/html": [
       "<div class=\"progress\">\n",
       "  <div class=\"progress-bar\" role=\"progressbar\" style=\"background-color: blue; width: 100%; word-wrap: normal; white-space: nowrap; text-align: center; color: white\" aria-valuenow=\"100\" aria-valuemin=\"0\" aria-valuemax=\"100\">\n",
       "    50 / 50\n",
       "  </div>\n",
       "  <div class=\"progress-bar\" role=\"progressbar\" style=\"background-color: red; width: 0%\" aria-valuenow=\"0\" aria-valuemin=\"0\" aria-valuemax=\"100\"></div>\n",
       "</div>\n"
      ]
     },
     "metadata": {},
     "output_type": "display_data"
    },
    {
     "data": {
      "text/html": [
       "<div>\n",
       "  <span style=\"float: left;\">head at cmd38.sc:1</span>\n",
       "</div>\n"
      ]
     },
     "metadata": {},
     "output_type": "display_data"
    },
    {
     "data": {
      "text/html": [
       "<div class=\"progress\">\n",
       "  <div class=\"progress-bar\" role=\"progressbar\" style=\"background-color: blue; width: 100%; word-wrap: normal; white-space: nowrap; text-align: center; color: white\" aria-valuenow=\"100\" aria-valuemin=\"0\" aria-valuemax=\"100\">\n",
       "    1 / 1\n",
       "  </div>\n",
       "  <div class=\"progress-bar\" role=\"progressbar\" style=\"background-color: red; width: 0%\" aria-valuenow=\"0\" aria-valuemin=\"0\" aria-valuemax=\"100\"></div>\n",
       "</div>\n"
      ]
     },
     "metadata": {},
     "output_type": "display_data"
    },
    {
     "data": {
      "text/plain": [
       "\u001b[36muRatings\u001b[39m: \u001b[32mmutable\u001b[39m.\u001b[32mWrappedArray\u001b[39m[(\u001b[32mInt\u001b[39m, \u001b[32mFloat\u001b[39m)] = \u001b[33mWrappedArray\u001b[39m(\n",
       "  [6,1.0716201],\n",
       "  [945,1.00699],\n",
       "  [683,1.000523],\n",
       "  [3,0.9999968],\n",
       "  [131,0.99995977],\n",
       "  [297,0.9999597],\n",
       "  [1307,0.99993116],\n",
       "  [8,0.9998051],\n",
       "  [1915,0.9994115],\n",
       "  [265,0.9982012],\n",
       "  [279,0.994965],\n",
       "  [1392,0.9868357],\n",
       "  [951,0.9864615],\n",
       "  [2516,0.9817046],\n",
       "  [682,0.930246],\n",
       "  [1821,0.8870774],\n",
       "  [164,0.8730698],\n",
       "  [1163,0.87027],\n",
       "  [2076,0.8442739],\n",
       "  [1914,0.8424841],\n",
       "  [2434,0.83562386],\n",
       "  [586,0.82029873],\n",
       "  [42,0.81831825],\n",
       "  [1308,0.72562504],\n",
       "  [7,0.70215976],\n",
       "  [585,0.6607297],\n",
       "  [952,0.6388063],\n",
       "  [280,0.63654745],\n",
       "  [1795,0.5890172],\n",
       "  [898,0.53465796],\n",
       "  [1800,0.47093648],\n",
       "  [132,0.43330297],\n",
       "  [2518,0.40926215],\n",
       "  [953,0.37479985],\n",
       "  [21,0.35347968],\n",
       "  [66,0.3431212],\n",
       "  [1417,0.3313372],\n",
       "  [1077,0.33130622],\n",
       "..."
      ]
     },
     "execution_count": 39,
     "metadata": {},
     "output_type": "execute_result"
    }
   ],
   "source": [
    "val uRatings = ratings.filter(r=> r.getAs[Int](0)==148).head.getAs[mutable.WrappedArray[(Int, Float)]](1)"
   ]
  },
  {
   "cell_type": "code",
   "execution_count": 41,
   "metadata": {},
   "outputs": [
    {
     "data": {
      "text/plain": [
       "\u001b[36mres40\u001b[39m: \u001b[32mList\u001b[39m[\u001b[32mGame\u001b[39m] = \u001b[33mList\u001b[39m(\n",
       "  \u001b[33mGame\u001b[39m(262, \u001b[32m\"War Thunder\"\u001b[39m, 0),\n",
       "  \u001b[33mGame\u001b[39m(589, \u001b[32m\"Tom Clancy's Ghost Recon Phantoms - EU\"\u001b[39m, 42),\n",
       "  \u001b[33mGame\u001b[39m(44, \u001b[32m\"Oddworld: Abe's Oddysee\"\u001b[39m, 0),\n",
       "  \u001b[33mGame\u001b[39m(186, \u001b[32m\"Dirty Bomb\"\u001b[39m, 45),\n",
       "  \u001b[33mGame\u001b[39m(66, \u001b[32m\"Warface\"\u001b[39m, 52),\n",
       "  \u001b[33mGame\u001b[39m(955, \u001b[32m\"Source Filmmaker\"\u001b[39m, 31),\n",
       "  \u001b[33mGame\u001b[39m(1002, \u001b[32m\"Pro Evolution Soccer 2016 myClub\"\u001b[39m, 8),\n",
       "  \u001b[33mGame\u001b[39m(1140, \u001b[32m\"Tom Clancy's The Division\"\u001b[39m, 341),\n",
       "  \u001b[33mGame\u001b[39m(1141, \u001b[32m\"Tom Clancy's The Division PTS\"\u001b[39m, 0)\n",
       ")"
      ]
     },
     "execution_count": 41,
     "metadata": {},
     "output_type": "execute_result"
    }
   ],
   "source": [
    "data.id2User.value(148).valid_games"
   ]
  },
  {
   "cell_type": "code",
   "execution_count": 16,
   "metadata": {},
   "outputs": [
    {
     "data": {
      "text/plain": [
       "\u001b[36mrrs\u001b[39m: \u001b[32mDataset\u001b[39m[(\u001b[32mInt\u001b[39m, \u001b[32mDouble\u001b[39m)] = [_1: int, _2: double]"
      ]
     },
     "execution_count": 16,
     "metadata": {},
     "output_type": "execute_result"
    }
   ],
   "source": [
    "val rrs: Dataset[(Int, Double)] = ratings.map(r => (r.getAs[Int](\"user\"),rr(data.id2User.value(r.getAs(\"user\")), row2ratings(r))))"
   ]
  },
  {
   "cell_type": "code",
   "execution_count": 42,
   "metadata": {},
   "outputs": [
    {
     "data": {
      "text/html": [
       "<div>\n",
       "  <span style=\"float: left;\">collect at cmd41.sc:1</span>\n",
       "</div>\n"
      ]
     },
     "metadata": {},
     "output_type": "display_data"
    },
    {
     "data": {
      "text/html": [
       "<div class=\"progress\">\n",
       "  <div class=\"progress-bar\" role=\"progressbar\" style=\"background-color: blue; width: 100%; word-wrap: normal; white-space: nowrap; text-align: center; color: white\" aria-valuenow=\"100\" aria-valuemin=\"0\" aria-valuemax=\"100\">\n",
       "    50 / 50\n",
       "  </div>\n",
       "  <div class=\"progress-bar\" role=\"progressbar\" style=\"background-color: red; width: 0%\" aria-valuenow=\"0\" aria-valuemin=\"0\" aria-valuemax=\"100\"></div>\n",
       "</div>\n"
      ]
     },
     "metadata": {},
     "output_type": "display_data"
    },
    {
     "data": {
      "text/html": [
       "<div>\n",
       "  <span style=\"float: left;\">collect at cmd41.sc:1</span>\n",
       "</div>\n"
      ]
     },
     "metadata": {},
     "output_type": "display_data"
    },
    {
     "data": {
      "text/html": [
       "<div class=\"progress\">\n",
       "  <div class=\"progress-bar\" role=\"progressbar\" style=\"background-color: blue; width: 100%; word-wrap: normal; white-space: nowrap; text-align: center; color: white\" aria-valuenow=\"100\" aria-valuemin=\"0\" aria-valuemax=\"100\">\n",
       "    200 / 200\n",
       "  </div>\n",
       "  <div class=\"progress-bar\" role=\"progressbar\" style=\"background-color: red; width: 0%\" aria-valuenow=\"0\" aria-valuemin=\"0\" aria-valuemax=\"100\"></div>\n",
       "</div>\n"
      ]
     },
     "metadata": {},
     "output_type": "display_data"
    },
    {
     "data": {
      "text/html": [
       "<div>\n",
       "  <span style=\"float: left;\">count at cmd41.sc:1</span>\n",
       "</div>\n"
      ]
     },
     "metadata": {},
     "output_type": "display_data"
    },
    {
     "data": {
      "text/html": [
       "<div class=\"progress\">\n",
       "  <div class=\"progress-bar\" role=\"progressbar\" style=\"background-color: blue; width: 100%; word-wrap: normal; white-space: nowrap; text-align: center; color: white\" aria-valuenow=\"100\" aria-valuemin=\"0\" aria-valuemax=\"100\">\n",
       "    50 / 50\n",
       "  </div>\n",
       "  <div class=\"progress-bar\" role=\"progressbar\" style=\"background-color: red; width: 0%\" aria-valuenow=\"0\" aria-valuemin=\"0\" aria-valuemax=\"100\"></div>\n",
       "</div>\n"
      ]
     },
     "metadata": {},
     "output_type": "display_data"
    },
    {
     "data": {
      "text/html": [
       "<div>\n",
       "  <span style=\"float: left;\">count at cmd41.sc:1</span>\n",
       "</div>\n"
      ]
     },
     "metadata": {},
     "output_type": "display_data"
    },
    {
     "data": {
      "text/html": [
       "<div class=\"progress\">\n",
       "  <div class=\"progress-bar\" role=\"progressbar\" style=\"background-color: blue; width: 100%; word-wrap: normal; white-space: nowrap; text-align: center; color: white\" aria-valuenow=\"100\" aria-valuemin=\"0\" aria-valuemax=\"100\">\n",
       "    200 / 200\n",
       "  </div>\n",
       "  <div class=\"progress-bar\" role=\"progressbar\" style=\"background-color: red; width: 0%\" aria-valuenow=\"0\" aria-valuemin=\"0\" aria-valuemax=\"100\"></div>\n",
       "</div>\n"
      ]
     },
     "metadata": {},
     "output_type": "display_data"
    },
    {
     "data": {
      "text/html": [
       "<div>\n",
       "  <span style=\"float: left;\">count at cmd41.sc:1</span>\n",
       "</div>\n"
      ]
     },
     "metadata": {},
     "output_type": "display_data"
    },
    {
     "data": {
      "text/html": [
       "<div class=\"progress\">\n",
       "  <div class=\"progress-bar\" role=\"progressbar\" style=\"background-color: blue; width: 100%; word-wrap: normal; white-space: nowrap; text-align: center; color: white\" aria-valuenow=\"100\" aria-valuemin=\"0\" aria-valuemax=\"100\">\n",
       "    1 / 1\n",
       "  </div>\n",
       "  <div class=\"progress-bar\" role=\"progressbar\" style=\"background-color: red; width: 0%\" aria-valuenow=\"0\" aria-valuemin=\"0\" aria-valuemax=\"100\"></div>\n",
       "</div>\n"
      ]
     },
     "metadata": {},
     "output_type": "display_data"
    },
    {
     "data": {
      "text/plain": [
       "\u001b[36mres41\u001b[39m: \u001b[32mDouble\u001b[39m = \u001b[32m0.6315159835655693\u001b[39m"
      ]
     },
     "execution_count": 42,
     "metadata": {},
     "output_type": "execute_result"
    }
   ],
   "source": [
    "rrs.collect.map(x=>x._2).sum / rrs.count"
   ]
  },
  {
   "cell_type": "code",
   "execution_count": null,
   "metadata": {},
   "outputs": [],
   "source": []
  }
 ],
 "metadata": {
  "kernelspec": {
   "display_name": "Scala",
   "language": "scala",
   "name": "scala"
  },
  "language_info": {
   "codemirror_mode": "text/x-scala",
   "file_extension": ".scala",
   "mimetype": "text/x-scala",
   "name": "scala",
   "nbconvert_exporter": "script",
   "version": "2.12.9"
  }
 },
 "nbformat": 4,
 "nbformat_minor": 4
}
