{
 "cells": [
  {
   "cell_type": "code",
   "execution_count": 1,
   "metadata": {},
   "outputs": [
    {
     "data": {
      "text/plain": [
       "\u001b[32mimport \u001b[39m\u001b[36m$ivy.$                                     // Or use any other 2.x version here\n",
       "\u001b[39m\n",
       "\u001b[32mimport \u001b[39m\u001b[36m$ivy.$                                 \n",
       "\u001b[39m"
      ]
     },
     "execution_count": 1,
     "metadata": {},
     "output_type": "execute_result"
    }
   ],
   "source": [
    "import $ivy.`org.apache.spark::spark-mllib:2.4.4` // Or use any other 2.x version here\n",
    "import $ivy.`default::steamrec:0.1.0-SNAPSHOT`\n"
   ]
  },
  {
   "cell_type": "code",
   "execution_count": 8,
   "metadata": {},
   "outputs": [
    {
     "data": {
      "text/plain": [
       "\u001b[32mimport \u001b[39m\u001b[36mcom.steamrec.DataLoader\n",
       "\u001b[39m\n",
       "\u001b[32mimport \u001b[39m\u001b[36mcom.steamrec.User\n",
       "\u001b[39m\n",
       "\u001b[32mimport \u001b[39m\u001b[36mcom.steamrec.Game\n",
       "\u001b[39m\n",
       "\u001b[32mimport \u001b[39m\u001b[36morg.apache.spark.ml.recommendation.ALS.Rating\n",
       "\u001b[39m\n",
       "\u001b[32mimport \u001b[39m\u001b[36morg.apache.spark.ml.recommendation.ALSModel\n",
       "\u001b[39m\n",
       "\u001b[32mimport \u001b[39m\u001b[36morg.apache.log4j.{Level, Logger}\n",
       "\u001b[39m\n",
       "\u001b[32mimport \u001b[39m\u001b[36mcom.steamrec.ModelUtils\n",
       "\u001b[39m"
      ]
     },
     "execution_count": 8,
     "metadata": {},
     "output_type": "execute_result"
    }
   ],
   "source": [
    "import com.steamrec.DataLoader\n",
    "import com.steamrec.User\n",
    "import com.steamrec.Game\n",
    "import org.apache.spark.ml.recommendation.ALS.Rating\n",
    "import org.apache.spark.ml.recommendation.ALSModel\n",
    "import org.apache.log4j.{Level, Logger}\n",
    "import com.steamrec.ModelUtils\n",
    "Logger.getLogger(\"org\").setLevel(Level.OFF)"
   ]
  },
  {
   "cell_type": "code",
   "execution_count": 3,
   "metadata": {},
   "outputs": [
    {
     "name": "stdout",
     "output_type": "stream",
     "text": [
      "Loading spark-stubs\n",
      "Creating SparkSession\n"
     ]
    },
    {
     "name": "stderr",
     "output_type": "stream",
     "text": [
      "Using Spark's default log4j profile: org/apache/spark/log4j-defaults.properties\n"
     ]
    },
    {
     "data": {
      "text/html": [
       "<a href=\"http://mboyanov:4040\">Spark UI</a>"
      ]
     },
     "metadata": {},
     "output_type": "display_data"
    },
    {
     "data": {
      "text/plain": [
       "\u001b[32mimport \u001b[39m\u001b[36morg.apache.spark.sql._\n",
       "\n",
       "\u001b[39m\n",
       "\u001b[36mspark\u001b[39m: \u001b[32mSparkSession\u001b[39m = org.apache.spark.sql.SparkSession@2891805\n",
       "\u001b[32mimport \u001b[39m\u001b[36mspark.implicits._\u001b[39m"
      ]
     },
     "execution_count": 3,
     "metadata": {},
     "output_type": "execute_result"
    }
   ],
   "source": [
    "import org.apache.spark.sql._\n",
    "\n",
    "val spark = {\n",
    "  NotebookSparkSession.builder()\n",
    "    .master(\"local[*]\")\n",
    "    .getOrCreate()\n",
    "}\n",
    "import spark.implicits._"
   ]
  },
  {
   "cell_type": "code",
   "execution_count": 4,
   "metadata": {},
   "outputs": [
    {
     "data": {
      "text/plain": [
       "\u001b[36mmodel_path\u001b[39m: \u001b[32mString\u001b[39m = \u001b[32m\"data_dir/rank_500_it_10_lambda_0.1_alpha_1.0\"\u001b[39m"
      ]
     },
     "execution_count": 4,
     "metadata": {},
     "output_type": "execute_result"
    }
   ],
   "source": [
    "val model_path = \"data_dir/rank_500_it_10_lambda_0.1_alpha_1.0\""
   ]
  },
  {
   "cell_type": "code",
   "execution_count": 5,
   "metadata": {},
   "outputs": [
    {
     "data": {
      "text/html": [
       "<script>\n",
       "var comm = Jupyter.notebook.kernel.comm_manager.new_comm('cancel-stage-8ec6c999-0490-4316-b717-4fc5c1fc45ab', {});\n",
       "\n",
       "function cancelStage(stageId) {\n",
       "  console.log('Cancelling stage ' + stageId);\n",
       "  comm.send({ 'stageId': stageId });\n",
       "}\n",
       "</script>\n",
       "          "
      ]
     },
     "metadata": {},
     "output_type": "display_data"
    },
    {
     "data": {
      "text/html": [
       "<div>\n",
       "  <span style=\"float: left;\">first at ReadWrite.scala:615</span>\n",
       "</div>\n"
      ]
     },
     "metadata": {},
     "output_type": "display_data"
    },
    {
     "data": {
      "text/html": [
       "<div class=\"progress\">\n",
       "  <div class=\"progress-bar\" role=\"progressbar\" style=\"background-color: blue; width: 100%; word-wrap: normal; white-space: nowrap; text-align: center; color: white\" aria-valuenow=\"100\" aria-valuemin=\"0\" aria-valuemax=\"100\">\n",
       "    1 / 1\n",
       "  </div>\n",
       "  <div class=\"progress-bar\" role=\"progressbar\" style=\"background-color: red; width: 0%\" aria-valuenow=\"0\" aria-valuemin=\"0\" aria-valuemax=\"100\"></div>\n",
       "</div>\n"
      ]
     },
     "metadata": {},
     "output_type": "display_data"
    },
    {
     "data": {
      "text/html": [
       "<div>\n",
       "  <span style=\"float: left;\">load at ALS.scala:527</span>\n",
       "</div>\n"
      ]
     },
     "metadata": {},
     "output_type": "display_data"
    },
    {
     "data": {
      "text/html": [
       "<div class=\"progress\">\n",
       "  <div class=\"progress-bar\" role=\"progressbar\" style=\"background-color: blue; width: 100%; word-wrap: normal; white-space: nowrap; text-align: center; color: white\" aria-valuenow=\"100\" aria-valuemin=\"0\" aria-valuemax=\"100\">\n",
       "    1 / 1\n",
       "  </div>\n",
       "  <div class=\"progress-bar\" role=\"progressbar\" style=\"background-color: red; width: 0%\" aria-valuenow=\"0\" aria-valuemin=\"0\" aria-valuemax=\"100\"></div>\n",
       "</div>\n"
      ]
     },
     "metadata": {},
     "output_type": "display_data"
    },
    {
     "data": {
      "text/html": [
       "<div>\n",
       "  <span style=\"float: left;\">load at ALS.scala:529</span>\n",
       "</div>\n"
      ]
     },
     "metadata": {},
     "output_type": "display_data"
    },
    {
     "data": {
      "text/html": [
       "<div class=\"progress\">\n",
       "  <div class=\"progress-bar\" role=\"progressbar\" style=\"background-color: blue; width: 100%; word-wrap: normal; white-space: nowrap; text-align: center; color: white\" aria-valuenow=\"100\" aria-valuemin=\"0\" aria-valuemax=\"100\">\n",
       "    1 / 1\n",
       "  </div>\n",
       "  <div class=\"progress-bar\" role=\"progressbar\" style=\"background-color: red; width: 0%\" aria-valuenow=\"0\" aria-valuemin=\"0\" aria-valuemax=\"100\"></div>\n",
       "</div>\n"
      ]
     },
     "metadata": {},
     "output_type": "display_data"
    },
    {
     "data": {
      "text/plain": [
       "\u001b[36mmodel\u001b[39m: \u001b[32mALSModel\u001b[39m = als_a0c6620a7d35"
      ]
     },
     "execution_count": 5,
     "metadata": {},
     "output_type": "execute_result"
    }
   ],
   "source": [
    "val model = ALSModel.load(s\"${model_path}/model\")"
   ]
  },
  {
   "cell_type": "code",
   "execution_count": 6,
   "metadata": {},
   "outputs": [
    {
     "data": {
      "text/html": [
       "<div>\n",
       "  <span style=\"float: left;\">json at DataLoader.scala:11</span>\n",
       "</div>\n"
      ]
     },
     "metadata": {},
     "output_type": "display_data"
    },
    {
     "data": {
      "text/html": [
       "<div class=\"progress\">\n",
       "  <div class=\"progress-bar\" role=\"progressbar\" style=\"background-color: blue; width: 100%; word-wrap: normal; white-space: nowrap; text-align: center; color: white\" aria-valuenow=\"100\" aria-valuemin=\"0\" aria-valuemax=\"100\">\n",
       "    9 / 9\n",
       "  </div>\n",
       "  <div class=\"progress-bar\" role=\"progressbar\" style=\"background-color: red; width: 0%\" aria-valuenow=\"0\" aria-valuemin=\"0\" aria-valuemax=\"100\"></div>\n",
       "</div>\n"
      ]
     },
     "metadata": {},
     "output_type": "display_data"
    },
    {
     "data": {
      "text/html": [
       "<div>\n",
       "  <span style=\"float: left;\">collect at GameData.scala:15</span>\n",
       "</div>\n"
      ]
     },
     "metadata": {},
     "output_type": "display_data"
    },
    {
     "data": {
      "text/html": [
       "<div class=\"progress\">\n",
       "  <div class=\"progress-bar\" role=\"progressbar\" style=\"background-color: blue; width: 100%; word-wrap: normal; white-space: nowrap; text-align: center; color: white\" aria-valuenow=\"100\" aria-valuemin=\"0\" aria-valuemax=\"100\">\n",
       "    9 / 9\n",
       "  </div>\n",
       "  <div class=\"progress-bar\" role=\"progressbar\" style=\"background-color: red; width: 0%\" aria-valuenow=\"0\" aria-valuemin=\"0\" aria-valuemax=\"100\"></div>\n",
       "</div>\n"
      ]
     },
     "metadata": {},
     "output_type": "display_data"
    },
    {
     "data": {
      "text/plain": [
       "\u001b[36mdata\u001b[39m: \u001b[32mcom\u001b[39m.\u001b[32msteamrec\u001b[39m.\u001b[32mGameData\u001b[39m = com.steamrec.GameData@504b9558"
      ]
     },
     "execution_count": 6,
     "metadata": {},
     "output_type": "execute_result"
    }
   ],
   "source": [
    "val data = DataLoader.loadData(\"data_dir/train-test-split-v2.json\")"
   ]
  },
  {
   "cell_type": "code",
   "execution_count": 7,
   "metadata": {},
   "outputs": [
    {
     "data": {
      "text/html": [
       "<div>\n",
       "  <span style=\"float: left;\">head at cmd6.sc:1</span>\n",
       "</div>\n"
      ]
     },
     "metadata": {},
     "output_type": "display_data"
    },
    {
     "data": {
      "text/html": [
       "<div class=\"progress\">\n",
       "  <div class=\"progress-bar\" role=\"progressbar\" style=\"background-color: blue; width: 100%; word-wrap: normal; white-space: nowrap; text-align: center; color: white\" aria-valuenow=\"100\" aria-valuemin=\"0\" aria-valuemax=\"100\">\n",
       "    1 / 1\n",
       "  </div>\n",
       "  <div class=\"progress-bar\" role=\"progressbar\" style=\"background-color: red; width: 0%\" aria-valuenow=\"0\" aria-valuemin=\"0\" aria-valuemax=\"100\"></div>\n",
       "</div>\n"
      ]
     },
     "metadata": {},
     "output_type": "display_data"
    },
    {
     "data": {
      "text/plain": [
       "\u001b[36mres6\u001b[39m: \u001b[32mArray\u001b[39m[\u001b[32mUser\u001b[39m] = \u001b[33mArray\u001b[39m(\n",
       "  \u001b[33mUser\u001b[39m(\n",
       "    0,\n",
       "    \u001b[33mList\u001b[39m(\n",
       "      \u001b[33mGame\u001b[39m(0, \u001b[32m\"Dota 2 Test\"\u001b[39m, 0),\n",
       "      \u001b[33mGame\u001b[39m(1, \u001b[32m\"Gear Up\"\u001b[39m, 1),\n",
       "      \u001b[33mGame\u001b[39m(2, \u001b[32m\"Left 4 Dead 2\"\u001b[39m, 9),\n",
       "      \u001b[33mGame\u001b[39m(3, \u001b[32m\"Counter-Strike: Global Offensive\"\u001b[39m, 2493),\n",
       "      \u001b[33mGame\u001b[39m(4, \u001b[32m\"SMITE\"\u001b[39m, 540),\n",
       "      \u001b[33mGame\u001b[39m(5, \u001b[32m\"Smite - Public Test\"\u001b[39m, 0),\n",
       "      \u001b[33mGame\u001b[39m(6, \u001b[32m\"Paladins\"\u001b[39m, 49656),\n",
       "      \u001b[33mGame\u001b[39m(7, \u001b[32m\"Paladins - Public Test\"\u001b[39m, 0),\n",
       "      \u001b[33mGame\u001b[39m(8, \u001b[32m\"Team Fortress 2\"\u001b[39m, 1086),\n",
       "      \u001b[33mGame\u001b[39m(9, \u001b[32m\"Dota 2\"\u001b[39m, 71638)\n",
       "    ),\n",
       "    \u001b[33mList\u001b[39m(\n",
       "      \u001b[33mGame\u001b[39m(0, \u001b[32m\"Dota 2 Test\"\u001b[39m, 0),\n",
       "      \u001b[33mGame\u001b[39m(3, \u001b[32m\"Counter-Strike: Global Offensive\"\u001b[39m, 2493),\n",
       "      \u001b[33mGame\u001b[39m(4, \u001b[32m\"SMITE\"\u001b[39m, 540),\n",
       "      \u001b[33mGame\u001b[39m(5, \u001b[32m\"Smite - Public Test\"\u001b[39m, 0),\n",
       "      \u001b[33mGame\u001b[39m(6, \u001b[32m\"Paladins\"\u001b[39m, 49656),\n",
       "      \u001b[33mGame\u001b[39m(7, \u001b[32m\"Paladins - Public Test\"\u001b[39m, 0),\n",
       "      \u001b[33mGame\u001b[39m(8, \u001b[32m\"Team Fortress 2\"\u001b[39m, 1086),\n",
       "      \u001b[33mGame\u001b[39m(9, \u001b[32m\"Dota 2\"\u001b[39m, 71638)\n",
       "    ),\n",
       "    \u001b[33mList\u001b[39m(\u001b[33mGame\u001b[39m(2, \u001b[32m\"Left 4 Dead 2\"\u001b[39m, 9), \u001b[33mGame\u001b[39m(1, \u001b[32m\"Gear Up\"\u001b[39m, 1))\n",
       "  )\n",
       ")"
      ]
     },
     "execution_count": 7,
     "metadata": {},
     "output_type": "execute_result"
    }
   ],
   "source": [
    "data.dataSet.head(1)"
   ]
  },
  {
   "cell_type": "code",
   "execution_count": 9,
   "metadata": {},
   "outputs": [
    {
     "data": {
      "text/plain": [
       "\u001b[36mratings\u001b[39m: \u001b[32mDataFrame\u001b[39m = [user: int, recommendations: array<struct<item:int,rating:float>>]"
      ]
     },
     "execution_count": 9,
     "metadata": {},
     "output_type": "execute_result"
    }
   ],
   "source": [
    "val ratings = model.recommendForAllUsers(100)"
   ]
  },
  {
   "cell_type": "code",
   "execution_count": 10,
   "metadata": {},
   "outputs": [
    {
     "data": {
      "text/plain": [
       "\u001b[32mimport \u001b[39m\u001b[36mscala.collection.mutable\n",
       "\u001b[39m\n",
       "defined \u001b[32mclass\u001b[39m \u001b[36mRatingItem\u001b[39m\n",
       "defined \u001b[32mclass\u001b[39m \u001b[36mGroupedRating\u001b[39m\n",
       "defined \u001b[32mfunction\u001b[39m \u001b[36mrr\u001b[39m\n",
       "defined \u001b[32mfunction\u001b[39m \u001b[36mmapItem\u001b[39m\n",
       "defined \u001b[32mfunction\u001b[39m \u001b[36mrow2ratings\u001b[39m"
      ]
     },
     "execution_count": 10,
     "metadata": {},
     "output_type": "execute_result"
    }
   ],
   "source": [
    "\n",
    "import scala.collection.mutable\n",
    "case class RatingItem(item: Int, rating: Float)\n",
    "case class GroupedRating(user: Int, recommendations: Array[RatingItem])\n",
    "\n",
    "def rr(user: User, ratings: Iterator[Rating[Int]]): Double = {\n",
    "    val trainGames = user.train_games.map(g => g.game_id).toSet\n",
    "    val validGames = user.valid_games.map(g => g.game_id).toSet\n",
    "    val sortedRatings = ratings.toList\n",
    "      .filter(x => !trainGames.contains(x.item))\n",
    "      .sortBy(r => -r.rating);\n",
    "    sortedRatings.zipWithIndex.find((r)=>  validGames contains r._1.item)\n",
    "      .map(r => 1.0/ (r._2 + 1))\n",
    "      .getOrElse(0.0)\n",
    "\n",
    "\n",
    "}\n",
    "\n",
    "  def mapItem(uid:Int, ratingItem:Row): Rating[Int] = {\n",
    "    Rating(uid, ratingItem.getAs[Int](\"item\"), ratingItem.getAs[Float](\"rating\"))\n",
    "  }\n",
    "\n",
    "  def row2ratings(row: Row): Iterator[Rating[Int]] = {\n",
    "    val uid = row.getAs[Int](0)\n",
    "    row.getAs[mutable.WrappedArray[Row]](\"recommendations\")\n",
    "      .map(x => mapItem(uid, x)).toIterator\n",
    "  }"
   ]
  },
  {
   "cell_type": "code",
   "execution_count": 11,
   "metadata": {},
   "outputs": [
    {
     "data": {
      "text/html": [
       "<div>\n",
       "  <span style=\"float: left;\">first at cmd10.sc:1</span>\n",
       "</div>\n"
      ]
     },
     "metadata": {},
     "output_type": "display_data"
    },
    {
     "data": {
      "text/html": [
       "<div class=\"progress\">\n",
       "  <div class=\"progress-bar\" role=\"progressbar\" style=\"background-color: blue; width: 100%; word-wrap: normal; white-space: nowrap; text-align: center; color: white\" aria-valuenow=\"100\" aria-valuemin=\"0\" aria-valuemax=\"100\">\n",
       "    1 / 1\n",
       "  </div>\n",
       "  <div class=\"progress-bar\" role=\"progressbar\" style=\"background-color: red; width: 0%\" aria-valuenow=\"0\" aria-valuemin=\"0\" aria-valuemax=\"100\"></div>\n",
       "</div>\n"
      ]
     },
     "metadata": {},
     "output_type": "display_data"
    },
    {
     "data": {
      "text/plain": [
       "\u001b[36mres10\u001b[39m: \u001b[32mRow\u001b[39m = [0,WrappedArray(-0.037335385, -0.008733383, 0.024352103, -0.0041547096, 0.032182526, 0.014274008, -0.038711745, 0.0044250437, -0.061623797, 0.012769637, 0.06440961, -0.042560827, -0.030923888, -0.013964174, 0.032346394, 0.02694291, -0.055387188, -0.021201564, 0.0031795627, 0.016078277, -0.0225782, -0.024403851, -0.095074296, 0.03209017, -0.0458251, 0.02693864, 0.014098344, -0.0027378493, -0.037523795, -0.005256525, 0.009141889, -0.009772336, -0.0038924874, 0.03563304, 0.020321155, -0.07970114, 0.0325638, -0.014674704, 0.03623155, 0.018706108, 0.056124996, -0.009984402, 0.06657998, -0.08080357, -0.026738599, 0.011224127, -0.1028453, 0.007832226, -0.047058403, 0.043576017, -0.05755836, -0.01138259, -0.03373226, -0.026041199, 0.032833308, 0.0406594, -4.7975953E-4, -0.0019218441, 0.0071669645, 0.012721727, 0.04898993, -0.012035682, 0.066750795, 0.022443317, -0.04937081, 0.01668032, 0.0031412523, -0.08062505, -0.038194623, 0.03315475, -0.001098953, -0.046631105, -0.0125239575, 0.037338596, 0.033102114, 0.019146118, -0.05295058, -0.006623996, 0.016422939, -0.026641123, 0.013359, 0.024964359, 0.0036562656, 0.0359808, 0.002894848, 0.006522968, 0.039603233, -0.010266425, -0.01415203, -0.013581696, -0.05313097, -0.030390302, 0.0051244865, -0.021488477, 0.0081220055, -0.021704376, -0.023756457, -0.016389033, -0.02756662, -0.022650603, 0.010236058, -0.019490585, -0.03760005, 0.04150946, 0.025576923, -0.042545088, -0.040217273, 0.020301994, 0.0018157649, -0.023596384, 0.02232842, 0.036166985, 0.03926218, 0.014105963, -0.011414022, -0.010533553, -0.0020845903, 0.024395425, -0.052650712, -0.05501048, 0.037559308, -0.014192862, -0.0049006795, -0.024709398, 0.03443293, -0.0110125635, 0.06763879, 0.04676938, -0.0014624397, 0.062456228, 0.0720098, -0.004818086, 0.03477422, 0.02341294, -0.04816011, 0.03845193, -0.035161413, 0.057253193, -0.01167871, 0.03138463, 0.023687258, 0.015847392, 0.0073789177, 0.041559726, -0.022144582, 0.010862852, 0.051311374, -0.013756715, 0.070423126, 0.0027484149, 0.02988998, -0.08980274, 0.018874157, -0.013019497, 0.012582485, 0.0136006335, 0.0034507255, 0.025652431, 0.040071797, 0.016571742, -0.034697663, -0.009561478, -0.0014368859, 0.046124134, 0.027925888, 0.0032203873, -0.02735427, 0.04585878, 0.034735613, 0.052151907, 0.014283457, 0.05032223, 0.06608651, -0.036670618, -0.030681556, -0.07317128, 0.019442804, -0.007229736, 0.021314343, -0.0054300297, -0.029344823, -0.03171738, -0.040794775, -0.028847534, -0.036198262, 0.0022128175, -0.008238222, 0.022494117, 0.022222355, 0.03774045, -0.019818444, -0.015786383, -0.008007311, -0.05848404, -0.015436559, -8.495574E-4, -0.019750139, 0.04468871, 0.01841788, 0.046795547, 0.02641853, -0.048054677, -0.056188174, 0.019815153, -0.024721231, -0.084114075, 0.017381858, 0.012891655, -0.081582375, -0.018351343, -0.036993574, 0.05464615, -0.006783785, -8.325992E-4, -0.046780065, -0.03422388, 0.012797083, -0.002681464, -0.050126564, 0.052968565, 0.031757865, 0.010827615, 0.0019362539, 0.041591175, 0.04441633, -0.009245033, 0.010530808, 0.024704821, -0.02346359, -0.038247246, 0.024461461, -0.038866844, -0.0051148958, ..."
      ]
     },
     "execution_count": 11,
     "metadata": {},
     "output_type": "execute_result"
    }
   ],
   "source": [
    "model.userFactors.filter(x=>x.getAs[Int](\"id\") == 0).first()"
   ]
  },
  {
   "cell_type": "code",
   "execution_count": 14,
   "metadata": {},
   "outputs": [
    {
     "data": {
      "text/html": [
       "<div>\n",
       "  <span style=\"float: left;\">first at cmd13.sc:1</span>\n",
       "</div>\n"
      ]
     },
     "metadata": {},
     "output_type": "display_data"
    },
    {
     "data": {
      "text/html": [
       "<div class=\"progress\">\n",
       "  <div class=\"progress-bar\" role=\"progressbar\" style=\"background-color: blue; width: 100%; word-wrap: normal; white-space: nowrap; text-align: center; color: white\" aria-valuenow=\"100\" aria-valuemin=\"0\" aria-valuemax=\"100\">\n",
       "    1 / 1\n",
       "  </div>\n",
       "  <div class=\"progress-bar\" role=\"progressbar\" style=\"background-color: red; width: 0%\" aria-valuenow=\"0\" aria-valuemin=\"0\" aria-valuemax=\"100\"></div>\n",
       "</div>\n"
      ]
     },
     "metadata": {},
     "output_type": "display_data"
    },
    {
     "data": {
      "text/html": [
       "<div>\n",
       "  <span style=\"float: left;\">first at cmd13.sc:1</span>\n",
       "</div>\n"
      ]
     },
     "metadata": {},
     "output_type": "display_data"
    },
    {
     "data": {
      "text/html": [
       "<div class=\"progress\">\n",
       "  <div class=\"progress-bar\" role=\"progressbar\" style=\"background-color: blue; width: 100%; word-wrap: normal; white-space: nowrap; text-align: center; color: white\" aria-valuenow=\"100\" aria-valuemin=\"0\" aria-valuemax=\"100\">\n",
       "    4 / 4\n",
       "  </div>\n",
       "  <div class=\"progress-bar\" role=\"progressbar\" style=\"background-color: red; width: 0%\" aria-valuenow=\"0\" aria-valuemin=\"0\" aria-valuemax=\"100\"></div>\n",
       "</div>\n"
      ]
     },
     "metadata": {},
     "output_type": "display_data"
    },
    {
     "data": {
      "text/plain": [
       "\u001b[36mres13\u001b[39m: \u001b[32mRow\u001b[39m = [9,WrappedArray(-0.014655861, -0.44936153, 0.13565738, 0.182862, -0.343516, -0.08358755, -0.086097285, 0.23842578, -0.29214862, 0.2693825, 0.11983249, -0.44775778, -0.11276365, 0.19705358, 0.04782241, 0.18122227, 0.3273791, -0.0631065, -0.081560954, 0.08657331, 0.14350876, -0.3035087, 0.09299257, -0.23347463, -0.10677377, -0.39316016, 0.23610264, 0.19350655, -0.54408747, 0.0442647, -0.5524963, 0.04748626, 0.30819336, 0.39800382, 0.09351358, -0.08234835, -0.09808568, 0.30883628, -0.23198284, 0.4356096, 0.17494038, -0.47270766, 0.18076588, -0.16392532, -0.35585827, -0.17838508, -0.2991393, 0.3701254, -0.325268, 0.07660771, -0.16223335, 0.37951, 0.042944282, -0.011390528, 0.22965811, 0.34049425, -0.20766017, 0.21092941, 0.13199185, -0.19217117, 0.45475882, -0.24318531, 0.038093235, -0.09393182, -0.017096162, -0.1110273, 0.026481004, -0.32620946, 0.38089427, 0.15025218, -0.082919955, 0.027569754, 0.4565661, 0.5570141, 0.30505875, 0.091201, -0.09001812, -0.35446256, 0.032336287, -0.28700584, 0.09168701, -0.3233091, -0.28128043, 0.3839531, -0.5016808, 0.12095435, -0.07373509, -0.41964605, 0.26926997, -0.29604828, -0.2760273, -0.06740887, -0.073477596, -0.11521012, -0.17283206, 0.23424672, 0.22645421, 0.22423662, -0.13250676, -0.32171994, -0.08353357, 0.28015244, 0.15400608, -0.66911846, 0.20026402, -0.20787328, -0.28035358, -0.08415935, 0.36220375, -0.39986375, -0.1254006, 0.13608834, 0.6646785, 0.0797755, 0.2461689, -0.42014635, -0.17319134, -0.2789626, -0.455583, -0.23480476, -0.15796849, 0.53849214, -0.009998578, -0.47619918, -0.12429738, -0.54154444, -0.08110134, -0.14485334, -0.10649634, -0.40978888, -0.25149038, 0.06922222, 0.3878138, 0.01521259, 0.11976492, 0.22683105, -0.025636919, 0.6324397, 0.11382368, 0.20157889, 0.37474993, 0.14132965, -0.14655101, 0.019911975, -0.08347415, 0.24423714, 0.06593488, -0.35943845, -0.25326768, 0.51483345, 0.05803177, 0.17444694, -0.2704202, 0.16744812, -0.31087825, -0.5655418, -0.46600708, 0.21746637, -0.08576616, -0.25549954, 0.19014283, 0.29253498, 0.5672386, 0.85826397, -0.029046973, -0.006778587, -0.3760371, 0.10054226, 0.01203284, -0.2954726, -0.11922661, 0.70536673, 0.22609782, -0.6051953, -0.02915303, -0.022489276, -0.4582419, -0.4468455, 0.3185276, -0.05372478, -0.28904766, 0.62221384, 0.0076500527, -0.16340826, 0.09010348, 0.3894668, -0.5637554, -0.106994405, 0.18210343, 0.015307906, 0.19241178, -0.119470894, 0.4131155, 0.49554524, -0.18034618, 0.05606748, 0.37128165, -0.121332414, 0.20208207, 0.4120833, -0.27381217, -0.2589776, -0.34003207, 0.540711, -0.18431824, -0.5426442, -0.02587298, 0.15659548, 0.067664385, -0.0947472, -0.22044328, -0.4397215, 0.27930573, 0.3354446, -0.057427205, -0.8211062, 0.28607643, -0.4425446, -0.35776064, -0.042022746, 0.053165294, -0.7989628, -0.019712428, -0.0034940208, 0.46499553, -0.26554963, -0.7647389, 0.43854207, 0.07684302, -0.14659761, -0.116057016, -0.33394352, -0.3743611, 0.22884658, -0.61679995, 0.010499926, 0.005004209, -0.41852126, -0.14939865, 0.29838076, -0.08667597, 0.80184025, -0.22352636, -0.20876244, 0.2852386, 0.34675142, 0.33001742, 0.3186596, 0.23415159, 0.060578737, -..."
      ]
     },
     "execution_count": 14,
     "metadata": {},
     "output_type": "execute_result"
    }
   ],
   "source": [
    "model.itemFactors.filter(x=>x.getAs[Int](\"id\")==9).first"
   ]
  },
  {
   "cell_type": "code",
   "execution_count": 12,
   "metadata": {},
   "outputs": [
    {
     "data": {
      "text/html": [
       "<div>\n",
       "  <span style=\"float: left;\">head at cmd11.sc:1</span>\n",
       "</div>\n"
      ]
     },
     "metadata": {},
     "output_type": "display_data"
    },
    {
     "data": {
      "text/html": [
       "<div class=\"progress\">\n",
       "  <div class=\"progress-bar\" role=\"progressbar\" style=\"background-color: blue; width: 100%; word-wrap: normal; white-space: nowrap; text-align: center; color: white\" aria-valuenow=\"100\" aria-valuemin=\"0\" aria-valuemax=\"100\">\n",
       "    50 / 50\n",
       "  </div>\n",
       "  <div class=\"progress-bar\" role=\"progressbar\" style=\"background-color: red; width: 0%\" aria-valuenow=\"0\" aria-valuemin=\"0\" aria-valuemax=\"100\"></div>\n",
       "</div>\n"
      ]
     },
     "metadata": {},
     "output_type": "display_data"
    },
    {
     "name": "stderr",
     "output_type": "stream",
     "text": [
      "19/11/10 15:48:04 WARN BLAS: Failed to load implementation from: com.github.fommil.netlib.NativeSystemBLAS\n",
      "19/11/10 15:48:05 WARN BLAS: Failed to load implementation from: com.github.fommil.netlib.NativeRefBLAS\n"
     ]
    },
    {
     "data": {
      "text/html": [
       "<div>\n",
       "  <span style=\"float: left;\">head at cmd11.sc:1</span>\n",
       "</div>\n"
      ]
     },
     "metadata": {},
     "output_type": "display_data"
    },
    {
     "data": {
      "text/html": [
       "<div class=\"progress\">\n",
       "  <div class=\"progress-bar\" role=\"progressbar\" style=\"background-color: blue; width: 100%; word-wrap: normal; white-space: nowrap; text-align: center; color: white\" aria-valuenow=\"100\" aria-valuemin=\"0\" aria-valuemax=\"100\">\n",
       "    1 / 1\n",
       "  </div>\n",
       "  <div class=\"progress-bar\" role=\"progressbar\" style=\"background-color: red; width: 0%\" aria-valuenow=\"0\" aria-valuemin=\"0\" aria-valuemax=\"100\"></div>\n",
       "</div>\n"
      ]
     },
     "metadata": {},
     "output_type": "display_data"
    },
    {
     "data": {
      "text/html": [
       "<div>\n",
       "  <span style=\"float: left;\">head at cmd11.sc:1</span>\n",
       "</div>\n"
      ]
     },
     "metadata": {},
     "output_type": "display_data"
    },
    {
     "data": {
      "text/html": [
       "<div class=\"progress\">\n",
       "  <div class=\"progress-bar\" role=\"progressbar\" style=\"background-color: blue; width: 100%; word-wrap: normal; white-space: nowrap; text-align: center; color: white\" aria-valuenow=\"100\" aria-valuemin=\"0\" aria-valuemax=\"100\">\n",
       "    4 / 4\n",
       "  </div>\n",
       "  <div class=\"progress-bar\" role=\"progressbar\" style=\"background-color: red; width: 0%\" aria-valuenow=\"0\" aria-valuemin=\"0\" aria-valuemax=\"100\"></div>\n",
       "</div>\n"
      ]
     },
     "metadata": {},
     "output_type": "display_data"
    },
    {
     "data": {
      "text/html": [
       "<div>\n",
       "  <span style=\"float: left;\">head at cmd11.sc:1</span>\n",
       "</div>\n"
      ]
     },
     "metadata": {},
     "output_type": "display_data"
    },
    {
     "data": {
      "text/html": [
       "<div class=\"progress\">\n",
       "  <div class=\"progress-bar\" role=\"progressbar\" style=\"background-color: blue; width: 100%; word-wrap: normal; white-space: nowrap; text-align: center; color: white\" aria-valuenow=\"100\" aria-valuemin=\"0\" aria-valuemax=\"100\">\n",
       "    20 / 20\n",
       "  </div>\n",
       "  <div class=\"progress-bar\" role=\"progressbar\" style=\"background-color: red; width: 0%\" aria-valuenow=\"0\" aria-valuemin=\"0\" aria-valuemax=\"100\"></div>\n",
       "</div>\n"
      ]
     },
     "metadata": {},
     "output_type": "display_data"
    },
    {
     "data": {
      "text/html": [
       "<div>\n",
       "  <span style=\"float: left;\">head at cmd11.sc:1</span>\n",
       "</div>\n"
      ]
     },
     "metadata": {},
     "output_type": "display_data"
    },
    {
     "data": {
      "text/html": [
       "<div class=\"progress\">\n",
       "  <div class=\"progress-bar\" role=\"progressbar\" style=\"background-color: blue; width: 100%; word-wrap: normal; white-space: nowrap; text-align: center; color: white\" aria-valuenow=\"100\" aria-valuemin=\"0\" aria-valuemax=\"100\">\n",
       "    100 / 100\n",
       "  </div>\n",
       "  <div class=\"progress-bar\" role=\"progressbar\" style=\"background-color: red; width: 0%\" aria-valuenow=\"0\" aria-valuemin=\"0\" aria-valuemax=\"100\"></div>\n",
       "</div>\n"
      ]
     },
     "metadata": {},
     "output_type": "display_data"
    },
    {
     "data": {
      "text/html": [
       "<div>\n",
       "  <span style=\"float: left;\">head at cmd11.sc:1</span>\n",
       "</div>\n"
      ]
     },
     "metadata": {},
     "output_type": "display_data"
    },
    {
     "data": {
      "text/html": [
       "<div class=\"progress\">\n",
       "  <div class=\"progress-bar\" role=\"progressbar\" style=\"background-color: blue; width: 100%; word-wrap: normal; white-space: nowrap; text-align: center; color: white\" aria-valuenow=\"100\" aria-valuemin=\"0\" aria-valuemax=\"100\">\n",
       "    75 / 75\n",
       "  </div>\n",
       "  <div class=\"progress-bar\" role=\"progressbar\" style=\"background-color: red; width: 0%\" aria-valuenow=\"0\" aria-valuemin=\"0\" aria-valuemax=\"100\"></div>\n",
       "</div>\n"
      ]
     },
     "metadata": {},
     "output_type": "display_data"
    },
    {
     "data": {
      "text/plain": [
       "\u001b[36muRatings\u001b[39m: \u001b[32mmutable\u001b[39m.\u001b[32mWrappedArray\u001b[39m[(\u001b[32mInt\u001b[39m, \u001b[32mFloat\u001b[39m)] = \u001b[33mWrappedArray\u001b[39m(\n",
       "  [9,0.9999958],\n",
       "  [6,0.99978644],\n",
       "  [3,0.99948335],\n",
       "  [8,0.984784],\n",
       "  [4,0.96695703],\n",
       "  [5,0.48497707],\n",
       "  [7,0.48088557],\n",
       "  [0,0.24391495],\n",
       "  [259,0.1900093],\n",
       "  [120,0.16350296],\n",
       "  [299,0.16275986],\n",
       "  [2,0.1535278],\n",
       "  [249,0.12904678],\n",
       "  [164,0.12300708],\n",
       "  [66,0.102884844],\n",
       "  [248,0.08674241],\n",
       "  [256,0.085901506],\n",
       "  [438,0.08086128],\n",
       "  [1169,0.07909372],\n",
       "  [1589,0.07299405],\n",
       "  [324,0.07008588],\n",
       "  [42,0.068360016],\n",
       "  [1794,0.068129204],\n",
       "  [186,0.064706825],\n",
       "  [1222,0.06414274],\n",
       "  [170,0.06396261],\n",
       "  [331,0.06188073],\n",
       "  [641,0.059751403],\n",
       "  [1822,0.058807362],\n",
       "  [319,0.05866531],\n",
       "  [938,0.05846977],\n",
       "  [3256,0.058340713],\n",
       "  [1670,0.05829816],\n",
       "  [1002,0.05797845],\n",
       "  [2938,0.057810273],\n",
       "  [1800,0.057274412],\n",
       "  [784,0.057258956],\n",
       "  [61,0.056878213],\n",
       "..."
      ]
     },
     "execution_count": 12,
     "metadata": {},
     "output_type": "execute_result"
    }
   ],
   "source": [
    "val uRatings = ratings.filter(r=> r.getAs[Int](0)==0).head.getAs[mutable.WrappedArray[(Int, Float)]](1)"
   ]
  },
  {
   "cell_type": "code",
   "execution_count": 41,
   "metadata": {},
   "outputs": [
    {
     "data": {
      "text/plain": [
       "\u001b[36mres40\u001b[39m: \u001b[32mList\u001b[39m[\u001b[32mGame\u001b[39m] = \u001b[33mList\u001b[39m(\n",
       "  \u001b[33mGame\u001b[39m(262, \u001b[32m\"War Thunder\"\u001b[39m, 0),\n",
       "  \u001b[33mGame\u001b[39m(589, \u001b[32m\"Tom Clancy's Ghost Recon Phantoms - EU\"\u001b[39m, 42),\n",
       "  \u001b[33mGame\u001b[39m(44, \u001b[32m\"Oddworld: Abe's Oddysee\"\u001b[39m, 0),\n",
       "  \u001b[33mGame\u001b[39m(186, \u001b[32m\"Dirty Bomb\"\u001b[39m, 45),\n",
       "  \u001b[33mGame\u001b[39m(66, \u001b[32m\"Warface\"\u001b[39m, 52),\n",
       "  \u001b[33mGame\u001b[39m(955, \u001b[32m\"Source Filmmaker\"\u001b[39m, 31),\n",
       "  \u001b[33mGame\u001b[39m(1002, \u001b[32m\"Pro Evolution Soccer 2016 myClub\"\u001b[39m, 8),\n",
       "  \u001b[33mGame\u001b[39m(1140, \u001b[32m\"Tom Clancy's The Division\"\u001b[39m, 341),\n",
       "  \u001b[33mGame\u001b[39m(1141, \u001b[32m\"Tom Clancy's The Division PTS\"\u001b[39m, 0)\n",
       ")"
      ]
     },
     "execution_count": 41,
     "metadata": {},
     "output_type": "execute_result"
    }
   ],
   "source": [
    "data.id2User.value(148).valid_games"
   ]
  },
  {
   "cell_type": "code",
   "execution_count": 16,
   "metadata": {},
   "outputs": [
    {
     "data": {
      "text/plain": [
       "\u001b[36mrrs\u001b[39m: \u001b[32mDataset\u001b[39m[(\u001b[32mInt\u001b[39m, \u001b[32mDouble\u001b[39m)] = [_1: int, _2: double]"
      ]
     },
     "execution_count": 16,
     "metadata": {},
     "output_type": "execute_result"
    }
   ],
   "source": [
    "val rrs: Dataset[(Int, Double)] = ratings.map(r => (r.getAs[Int](\"user\"),rr(data.id2User.value(r.getAs(\"user\")), row2ratings(r))))"
   ]
  },
  {
   "cell_type": "code",
   "execution_count": 42,
   "metadata": {},
   "outputs": [
    {
     "data": {
      "text/html": [
       "<div>\n",
       "  <span style=\"float: left;\">collect at cmd41.sc:1</span>\n",
       "</div>\n"
      ]
     },
     "metadata": {},
     "output_type": "display_data"
    },
    {
     "data": {
      "text/html": [
       "<div class=\"progress\">\n",
       "  <div class=\"progress-bar\" role=\"progressbar\" style=\"background-color: blue; width: 100%; word-wrap: normal; white-space: nowrap; text-align: center; color: white\" aria-valuenow=\"100\" aria-valuemin=\"0\" aria-valuemax=\"100\">\n",
       "    50 / 50\n",
       "  </div>\n",
       "  <div class=\"progress-bar\" role=\"progressbar\" style=\"background-color: red; width: 0%\" aria-valuenow=\"0\" aria-valuemin=\"0\" aria-valuemax=\"100\"></div>\n",
       "</div>\n"
      ]
     },
     "metadata": {},
     "output_type": "display_data"
    },
    {
     "data": {
      "text/html": [
       "<div>\n",
       "  <span style=\"float: left;\">collect at cmd41.sc:1</span>\n",
       "</div>\n"
      ]
     },
     "metadata": {},
     "output_type": "display_data"
    },
    {
     "data": {
      "text/html": [
       "<div class=\"progress\">\n",
       "  <div class=\"progress-bar\" role=\"progressbar\" style=\"background-color: blue; width: 100%; word-wrap: normal; white-space: nowrap; text-align: center; color: white\" aria-valuenow=\"100\" aria-valuemin=\"0\" aria-valuemax=\"100\">\n",
       "    200 / 200\n",
       "  </div>\n",
       "  <div class=\"progress-bar\" role=\"progressbar\" style=\"background-color: red; width: 0%\" aria-valuenow=\"0\" aria-valuemin=\"0\" aria-valuemax=\"100\"></div>\n",
       "</div>\n"
      ]
     },
     "metadata": {},
     "output_type": "display_data"
    },
    {
     "data": {
      "text/html": [
       "<div>\n",
       "  <span style=\"float: left;\">count at cmd41.sc:1</span>\n",
       "</div>\n"
      ]
     },
     "metadata": {},
     "output_type": "display_data"
    },
    {
     "data": {
      "text/html": [
       "<div class=\"progress\">\n",
       "  <div class=\"progress-bar\" role=\"progressbar\" style=\"background-color: blue; width: 100%; word-wrap: normal; white-space: nowrap; text-align: center; color: white\" aria-valuenow=\"100\" aria-valuemin=\"0\" aria-valuemax=\"100\">\n",
       "    50 / 50\n",
       "  </div>\n",
       "  <div class=\"progress-bar\" role=\"progressbar\" style=\"background-color: red; width: 0%\" aria-valuenow=\"0\" aria-valuemin=\"0\" aria-valuemax=\"100\"></div>\n",
       "</div>\n"
      ]
     },
     "metadata": {},
     "output_type": "display_data"
    },
    {
     "data": {
      "text/html": [
       "<div>\n",
       "  <span style=\"float: left;\">count at cmd41.sc:1</span>\n",
       "</div>\n"
      ]
     },
     "metadata": {},
     "output_type": "display_data"
    },
    {
     "data": {
      "text/html": [
       "<div class=\"progress\">\n",
       "  <div class=\"progress-bar\" role=\"progressbar\" style=\"background-color: blue; width: 100%; word-wrap: normal; white-space: nowrap; text-align: center; color: white\" aria-valuenow=\"100\" aria-valuemin=\"0\" aria-valuemax=\"100\">\n",
       "    200 / 200\n",
       "  </div>\n",
       "  <div class=\"progress-bar\" role=\"progressbar\" style=\"background-color: red; width: 0%\" aria-valuenow=\"0\" aria-valuemin=\"0\" aria-valuemax=\"100\"></div>\n",
       "</div>\n"
      ]
     },
     "metadata": {},
     "output_type": "display_data"
    },
    {
     "data": {
      "text/html": [
       "<div>\n",
       "  <span style=\"float: left;\">count at cmd41.sc:1</span>\n",
       "</div>\n"
      ]
     },
     "metadata": {},
     "output_type": "display_data"
    },
    {
     "data": {
      "text/html": [
       "<div class=\"progress\">\n",
       "  <div class=\"progress-bar\" role=\"progressbar\" style=\"background-color: blue; width: 100%; word-wrap: normal; white-space: nowrap; text-align: center; color: white\" aria-valuenow=\"100\" aria-valuemin=\"0\" aria-valuemax=\"100\">\n",
       "    1 / 1\n",
       "  </div>\n",
       "  <div class=\"progress-bar\" role=\"progressbar\" style=\"background-color: red; width: 0%\" aria-valuenow=\"0\" aria-valuemin=\"0\" aria-valuemax=\"100\"></div>\n",
       "</div>\n"
      ]
     },
     "metadata": {},
     "output_type": "display_data"
    },
    {
     "data": {
      "text/plain": [
       "\u001b[36mres41\u001b[39m: \u001b[32mDouble\u001b[39m = \u001b[32m0.6315159835655693\u001b[39m"
      ]
     },
     "execution_count": 42,
     "metadata": {},
     "output_type": "execute_result"
    }
   ],
   "source": [
    "rrs.collect.map(x=>x._2).sum / rrs.count"
   ]
  },
  {
   "cell_type": "code",
   "execution_count": null,
   "metadata": {},
   "outputs": [],
   "source": []
  }
 ],
 "metadata": {
  "kernelspec": {
   "display_name": "Scala",
   "language": "scala",
   "name": "scala"
  },
  "language_info": {
   "codemirror_mode": "text/x-scala",
   "file_extension": ".scala",
   "mimetype": "text/x-scala",
   "name": "scala",
   "nbconvert_exporter": "script",
   "version": "2.12.9"
  }
 },
 "nbformat": 4,
 "nbformat_minor": 4
}
