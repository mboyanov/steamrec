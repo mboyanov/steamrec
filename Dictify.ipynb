{
 "cells": [
  {
   "cell_type": "code",
   "execution_count": 2,
   "metadata": {},
   "outputs": [],
   "source": [
    "import json"
   ]
  },
  {
   "cell_type": "code",
   "execution_count": 5,
   "metadata": {},
   "outputs": [],
   "source": [
    "user2id = {}\n",
    "game2id = {}\n",
    "\n",
    "\n",
    "def safe_get_id(key, mapping):\n",
    "    if key not in mapping:\n",
    "        mapping[key] = len(mapping)\n",
    "    return mapping[key]\n",
    "\n",
    "with open('data_dir/train-test-split-v2.json', 'w') as out:\n",
    "    for line in open('data_dir/train-test-split.json'):\n",
    "        u = json.loads(line)\n",
    "        u['user_id'] = safe_get_id(u['steam_id'], user2id)\n",
    "        for g in u['games']:\n",
    "            g['game_id'] = safe_get_id(g['name'], game2id)\n",
    "        for g in u['train_games']:\n",
    "            g['game_id'] = safe_get_id(g['name'], game2id)\n",
    "        for g in u['valid_games']:\n",
    "            g['game_id'] = safe_get_id(g['name'], game2id)\n",
    "        out.write(json.dumps(u)+\"\\n\")"
   ]
  },
  {
   "cell_type": "code",
   "execution_count": 10,
   "metadata": {},
   "outputs": [],
   "source": [
    "with open('data_dir/user2id.json','w') as out: json.dump(user2id, out)\n",
    "with open('data_dir/game2id.json','w') as out: json.dump(game2id, out)"
   ]
  },
  {
   "cell_type": "code",
   "execution_count": 11,
   "metadata": {},
   "outputs": [
    {
     "name": "stdout",
     "output_type": "stream",
     "text": [
      "game2id.json\t\t\t    train-test-split.json.dvc\tuser2id.json\r\n",
      "rank_2_it_10_lambda_0.01_alpha_1.0  train-test-split.json.head\r\n",
      "train-test-split.json\t\t    train-test-split-v2.json\r\n"
     ]
    }
   ],
   "source": [
    "!ls data_dir/"
   ]
  },
  {
   "cell_type": "code",
   "execution_count": 12,
   "metadata": {},
   "outputs": [
    {
     "data": {
      "text/plain": [
       "5400"
      ]
     },
     "execution_count": 12,
     "metadata": {},
     "output_type": "execute_result"
    }
   ],
   "source": [
    "len(game2id)"
   ]
  }
 ],
 "metadata": {
  "kernelspec": {
   "display_name": "Python 3",
   "language": "python",
   "name": "python3"
  },
  "language_info": {
   "codemirror_mode": {
    "name": "ipython",
    "version": 3
   },
   "file_extension": ".py",
   "mimetype": "text/x-python",
   "name": "python",
   "nbconvert_exporter": "python",
   "pygments_lexer": "ipython3",
   "version": "3.6.8"
  }
 },
 "nbformat": 4,
 "nbformat_minor": 2
}
